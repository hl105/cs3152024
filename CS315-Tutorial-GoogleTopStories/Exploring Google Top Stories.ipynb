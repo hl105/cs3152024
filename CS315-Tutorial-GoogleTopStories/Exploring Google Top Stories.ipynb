{
 "cells": [
  {
   "cell_type": "markdown",
   "id": "1dbe4353-ae93-4f8c-b244-5f5488134979",
   "metadata": {},
   "source": [
    "# Google Top Stories - An exploration\n",
    "\n",
    "**Description:** This dataset was collected during the pandemic, it contains headlines shown by Google Search.\n",
    "It is organized by year, month, date, hour, in a series of nested folders. The leaf folders contain JSON files with information about Google's top stories. \n",
    "\n",
    "Your goal is to write first a Python function that takes the name of the folder \"GoogleTopStories\" and stores the content of all the JSON files into a single CSV file. Once you have a CSV file, you can practice your pandas & seaborn skills in analyzing the data.\n",
    "\n",
    "Some tips and ideas for analysis:\n",
    "1. Use the Python command `os.walk` to iteratively traverse the nested subfolders. Account for hidden files that start with .\n",
    "2. Although the dataset has a column domain, imagine that it doesn't have it and write a function that takes a URL and extracts the domain name from it and saves it in a column. Use the `.apply` method to create the column. Learn how to parse URLs with `urllib.parse`.\n",
    "3. Create a bar chart with the frequencies of the top 10 domains. (Use domains, since 'source name' contains duplicates.)\n",
    "4. Create a heatmap that shows the distribution of domains across the 'story_position' values.\n",
    "5. Create timeseries of unique articles per month by query type. (This is challenging, because it is not using pandas' timeseries.)\n",
    "\n",
    "\n",
    "**Table of Content [Solutions]**\n",
    "1. [Reading all JSON files](#sec1)\n",
    "2. [Creating a new column](#sec2)\n",
    "3. [Bar chart of top domains](#sec3)\n",
    "4. [Heatmap for the story positions](#sec4)\n",
    "5. [Timeseries of unique articles by query](#sec5)"
   ]
  },
  {
   "cell_type": "markdown",
   "id": "366b059e-6191-40d4-9dad-6e75a306c4e0",
   "metadata": {},
   "source": [
    "<a id=\"sec1\"></a>\n",
    "## Part 1: Reading all JSON files\n",
    "\n",
    "Spend some time looking at the structure of the folders and subfolders in GoogleTopStories. You should notice the deep nesting. The function `os.walk` recursively traverses this nested structure. "
   ]
  },
  {
   "cell_type": "code",
   "execution_count": 1,
   "id": "2cd93b62-65e6-41e1-b7d2-fa9bfbf517bf",
   "metadata": {},
   "outputs": [],
   "source": [
    "import os, json, csv\n",
    "\n",
    "def writeFilesToCSV(pathName):\n",
    "    \"\"\"\n",
    "    Takes a foldername as an argument. Recursively reads all JSON files \n",
    "    and saves their content into a list. At the end, saves all data into a CSV file.\n",
    "    \"\"\"\n",
    "    allTopStories = []\n",
    "    totalFiles = 0\n",
    "    for dirpath, dirnames, filenames in os.walk(pathName):\n",
    "        for fN in filenames: \n",
    "            if fN.endswith('.json'): # Avoid any other types of files, such as .DS_Store\n",
    "                totalFiles += 1\n",
    "                filePath = os.path.join(dirpath, fN) # create the whole path of a file\n",
    "                with open(filePath) as inputF:\n",
    "                    data = json.load(inputF)\n",
    "                    allTopStories.extend(data)\n",
    "                \n",
    "    print(\"Total number of JSON files:\", totalFiles)\n",
    "    print(\"Total number of Top stories in the files:\", len(allTopStories))\n",
    "\n",
    "    with open(\"our-results.csv\", \"w\") as fout:\n",
    "        header = list(allTopStories[0].keys()) + ['category'] # Notice this, because not all top stories have a \"category\"\n",
    "        dW = csv.DictWriter(fout, fieldnames=header)\n",
    "        dW.writeheader()\n",
    "        dW.writerows(allTopStories)"
   ]
  },
  {
   "cell_type": "code",
   "execution_count": 2,
   "id": "619fa6ab-c350-4a08-acc6-97d1b46c617d",
   "metadata": {},
   "outputs": [
    {
     "name": "stdout",
     "output_type": "stream",
     "text": [
      "Total number of JSON files: 2443\n",
      "Total number of Top stories in the files: 16948\n"
     ]
    }
   ],
   "source": [
    "# Call the function for our folder\n",
    "writeFilesToCSV('GoogleTopStories')"
   ]
  },
  {
   "cell_type": "markdown",
   "id": "1d0c6ad8-a092-4a40-80b1-bb2f35761927",
   "metadata": {},
   "source": [
    "**Your task: Explore how `os.walk` works**\n",
    "\n",
    "In order to see how os.walks works, use below the for loop from the function to only explore the month of Aprill 2020, by printing out what the for loop generates."
   ]
  },
  {
   "cell_type": "code",
   "execution_count": 13,
   "id": "9f9e8127-1cdd-4c18-a552-e645e4eb2456",
   "metadata": {},
   "outputs": [
    {
     "name": "stdout",
     "output_type": "stream",
     "text": [
      "Total number of JSON files in 2020/04: 45\n",
      "Total number of Top stories in 2020/04: 352\n"
     ]
    }
   ],
   "source": [
    "allTopStories = []\n",
    "totalFiles = 0\n",
    "for dirpath, dirnames, filenames in os.walk('GoogleTopStories/2020/04'):\n",
    "        for fN in filenames: \n",
    "            if fN.endswith('.json'): # Avoid any other types of files, such as .DS_Store\n",
    "                totalFiles += 1\n",
    "                filePath = os.path.join(dirpath, fN) # create the whole path of a file\n",
    "                with open(filePath) as inputF:\n",
    "                    data = json.load(inputF)\n",
    "                    allTopStories.extend(data)\n",
    "print(\"Total number of JSON files in 2020/04:\", totalFiles)\n",
    "print(\"Total number of Top stories in 2020/04:\", len(allTopStories))"
   ]
  },
  {
   "cell_type": "markdown",
   "id": "a2ff2670-3681-494f-980b-12006e8c039c",
   "metadata": {},
   "source": [
    "<a id=\"sec2\"></a>\n",
    "## Part 2: Create the new `domain` column\n",
    "\n",
    "Let's load the data that we created in Part 1 into a dataframe."
   ]
  },
  {
   "cell_type": "code",
   "execution_count": 14,
   "id": "d3509da0-2b9c-4e7b-bdca-5c1e7c26415c",
   "metadata": {},
   "outputs": [
    {
     "name": "stderr",
     "output_type": "stream",
     "text": [
      "/var/folders/6y/w5dznchj3w9cyjt81v33hf1c0000gn/T/ipykernel_18246/2414338559.py:1: DeprecationWarning: \n",
      "Pyarrow will become a required dependency of pandas in the next major release of pandas (pandas 3.0),\n",
      "(to allow more performant data types, such as the Arrow string type, and better interoperability with other libraries)\n",
      "but was not found to be installed on your system.\n",
      "If this would cause problems for you,\n",
      "please provide us feedback at https://github.com/pandas-dev/pandas/issues/54466\n",
      "        \n",
      "  import pandas as pd\n"
     ]
    },
    {
     "data": {
      "text/html": [
       "<div>\n",
       "<style scoped>\n",
       "    .dataframe tbody tr th:only-of-type {\n",
       "        vertical-align: middle;\n",
       "    }\n",
       "\n",
       "    .dataframe tbody tr th {\n",
       "        vertical-align: top;\n",
       "    }\n",
       "\n",
       "    .dataframe thead th {\n",
       "        text-align: right;\n",
       "    }\n",
       "</style>\n",
       "<table border=\"1\" class=\"dataframe\">\n",
       "  <thead>\n",
       "    <tr style=\"text-align: right;\">\n",
       "      <th></th>\n",
       "      <th>title</th>\n",
       "      <th>url</th>\n",
       "      <th>source</th>\n",
       "      <th>time</th>\n",
       "      <th>date</th>\n",
       "      <th>query</th>\n",
       "      <th>story_position</th>\n",
       "      <th>domain</th>\n",
       "      <th>category</th>\n",
       "    </tr>\n",
       "  </thead>\n",
       "  <tbody>\n",
       "    <tr>\n",
       "      <th>0</th>\n",
       "      <td>Live Covid-19 News Updates: The Latest</td>\n",
       "      <td>https://www.nytimes.com/live/2021/02/03/world/...</td>\n",
       "      <td>The New York Times</td>\n",
       "      <td>2 hours ago</td>\n",
       "      <td>2021-02-03 22:00:00</td>\n",
       "      <td>Covid-19</td>\n",
       "      <td>1</td>\n",
       "      <td>www.nytimes.com</td>\n",
       "      <td>NaN</td>\n",
       "    </tr>\n",
       "    <tr>\n",
       "      <th>1</th>\n",
       "      <td>The latest on the coronavirus pandemic and vac...</td>\n",
       "      <td>https://www.cnn.com/world/live-news/coronaviru...</td>\n",
       "      <td>CNN</td>\n",
       "      <td>50 mins ago</td>\n",
       "      <td>2021-02-03 22:00:00</td>\n",
       "      <td>Covid-19</td>\n",
       "      <td>2</td>\n",
       "      <td>www.cnn.com</td>\n",
       "      <td>NaN</td>\n",
       "    </tr>\n",
       "    <tr>\n",
       "      <th>2</th>\n",
       "      <td>Chiefs' Daniel Kilgore releases photo of unfin...</td>\n",
       "      <td>https://www.foxnews.com/sports/chiefs-daniel-k...</td>\n",
       "      <td>Fox News</td>\n",
       "      <td>48 mins ago</td>\n",
       "      <td>2021-02-03 22:00:00</td>\n",
       "      <td>Covid-19</td>\n",
       "      <td>3</td>\n",
       "      <td>www.foxnews.com</td>\n",
       "      <td>NaN</td>\n",
       "    </tr>\n",
       "    <tr>\n",
       "      <th>3</th>\n",
       "      <td>Younger adults are biggest spreaders of Covid-...</td>\n",
       "      <td>https://www.cnn.com/2021/02/03/health/younger-...</td>\n",
       "      <td>CNN</td>\n",
       "      <td>35 mins ago</td>\n",
       "      <td>2021-02-03 22:00:00</td>\n",
       "      <td>Covid-19</td>\n",
       "      <td>4</td>\n",
       "      <td>www.cnn.com</td>\n",
       "      <td>NaN</td>\n",
       "    </tr>\n",
       "    <tr>\n",
       "      <th>4</th>\n",
       "      <td>Idaho’s daily average of new COVID-19 cases re...</td>\n",
       "      <td>https://www.idahostatesman.com/news/coronaviru...</td>\n",
       "      <td>Idaho Statesman</td>\n",
       "      <td>51 mins ago</td>\n",
       "      <td>2021-02-03 22:00:00</td>\n",
       "      <td>Covid-19</td>\n",
       "      <td>5</td>\n",
       "      <td>www.idahostatesman.com</td>\n",
       "      <td>NaN</td>\n",
       "    </tr>\n",
       "  </tbody>\n",
       "</table>\n",
       "</div>"
      ],
      "text/plain": [
       "                                               title  \\\n",
       "0             Live Covid-19 News Updates: The Latest   \n",
       "1  The latest on the coronavirus pandemic and vac...   \n",
       "2  Chiefs' Daniel Kilgore releases photo of unfin...   \n",
       "3  Younger adults are biggest spreaders of Covid-...   \n",
       "4  Idaho’s daily average of new COVID-19 cases re...   \n",
       "\n",
       "                                                 url              source  \\\n",
       "0  https://www.nytimes.com/live/2021/02/03/world/...  The New York Times   \n",
       "1  https://www.cnn.com/world/live-news/coronaviru...                 CNN   \n",
       "2  https://www.foxnews.com/sports/chiefs-daniel-k...            Fox News   \n",
       "3  https://www.cnn.com/2021/02/03/health/younger-...                 CNN   \n",
       "4  https://www.idahostatesman.com/news/coronaviru...     Idaho Statesman   \n",
       "\n",
       "          time                 date     query  story_position  \\\n",
       "0  2 hours ago  2021-02-03 22:00:00  Covid-19               1   \n",
       "1  50 mins ago  2021-02-03 22:00:00  Covid-19               2   \n",
       "2  48 mins ago  2021-02-03 22:00:00  Covid-19               3   \n",
       "3  35 mins ago  2021-02-03 22:00:00  Covid-19               4   \n",
       "4  51 mins ago  2021-02-03 22:00:00  Covid-19               5   \n",
       "\n",
       "                   domain category  \n",
       "0         www.nytimes.com      NaN  \n",
       "1             www.cnn.com      NaN  \n",
       "2         www.foxnews.com      NaN  \n",
       "3             www.cnn.com      NaN  \n",
       "4  www.idahostatesman.com      NaN  "
      ]
     },
     "execution_count": 14,
     "metadata": {},
     "output_type": "execute_result"
    }
   ],
   "source": [
    "import pandas as pd\n",
    "\n",
    "df = pd.read_csv('our-results.csv')\n",
    "df.head()"
   ]
  },
  {
   "cell_type": "markdown",
   "id": "a74609d1-b6a6-4db7-b2ed-51c4c0369603",
   "metadata": {},
   "source": [
    "**How to extract the domain name from the URL?**"
   ]
  },
  {
   "cell_type": "code",
   "execution_count": 15,
   "id": "47127e98-2197-419a-a588-07d4458e1699",
   "metadata": {},
   "outputs": [
    {
     "data": {
      "text/plain": [
       "ParseResult(scheme='https', netloc='www.nytimes.com', path='/live/2021/02/03/world/covid-19-coronavirus', params='', query='', fragment='')"
      ]
     },
     "execution_count": 15,
     "metadata": {},
     "output_type": "execute_result"
    }
   ],
   "source": [
    "from urllib.parse import urlparse\n",
    "\n",
    "oneUrl = df.iloc[0]['url'] # retrieve url from first row of dataframe\n",
    "urlparse(oneUrl)"
   ]
  },
  {
   "cell_type": "markdown",
   "id": "4dea6541-41b4-4291-9d12-d3aaba37daeb",
   "metadata": {},
   "source": [
    "Notice that the result is an object and the domain name is the value of the attribute `netloc`. Now, we can easily make use of this to write the helper function to extract the domain name."
   ]
  },
  {
   "cell_type": "markdown",
   "id": "2d615da2-047c-4f56-aff8-584cba379dea",
   "metadata": {},
   "source": [
    "**Write a helper function**"
   ]
  },
  {
   "cell_type": "code",
   "execution_count": 16,
   "id": "76741dae-c2cd-4a56-8a9c-5c4e964b1242",
   "metadata": {},
   "outputs": [],
   "source": [
    "from urllib.parse import urlparse\n",
    "\n",
    "def getDomain(field):\n",
    "    \"\"\"returns the domain name of a url\"\"\"\n",
    "    return urlparse(field).netloc\n"
   ]
  },
  {
   "cell_type": "markdown",
   "id": "209dd761-07d9-4ab8-8291-2e48be3b6a4b",
   "metadata": {},
   "source": [
    "Apply the helper function to the whole column and store the results to a new column:"
   ]
  },
  {
   "cell_type": "code",
   "execution_count": 17,
   "id": "5955a6bb-bf25-4543-8bc5-2649c578927f",
   "metadata": {},
   "outputs": [
    {
     "data": {
      "text/html": [
       "<div>\n",
       "<style scoped>\n",
       "    .dataframe tbody tr th:only-of-type {\n",
       "        vertical-align: middle;\n",
       "    }\n",
       "\n",
       "    .dataframe tbody tr th {\n",
       "        vertical-align: top;\n",
       "    }\n",
       "\n",
       "    .dataframe thead th {\n",
       "        text-align: right;\n",
       "    }\n",
       "</style>\n",
       "<table border=\"1\" class=\"dataframe\">\n",
       "  <thead>\n",
       "    <tr style=\"text-align: right;\">\n",
       "      <th></th>\n",
       "      <th>title</th>\n",
       "      <th>url</th>\n",
       "      <th>source</th>\n",
       "      <th>time</th>\n",
       "      <th>date</th>\n",
       "      <th>query</th>\n",
       "      <th>story_position</th>\n",
       "      <th>domain</th>\n",
       "      <th>category</th>\n",
       "      <th>domain2</th>\n",
       "    </tr>\n",
       "  </thead>\n",
       "  <tbody>\n",
       "    <tr>\n",
       "      <th>0</th>\n",
       "      <td>Live Covid-19 News Updates: The Latest</td>\n",
       "      <td>https://www.nytimes.com/live/2021/02/03/world/...</td>\n",
       "      <td>The New York Times</td>\n",
       "      <td>2 hours ago</td>\n",
       "      <td>2021-02-03 22:00:00</td>\n",
       "      <td>Covid-19</td>\n",
       "      <td>1</td>\n",
       "      <td>www.nytimes.com</td>\n",
       "      <td>NaN</td>\n",
       "      <td>www.nytimes.com</td>\n",
       "    </tr>\n",
       "    <tr>\n",
       "      <th>1</th>\n",
       "      <td>The latest on the coronavirus pandemic and vac...</td>\n",
       "      <td>https://www.cnn.com/world/live-news/coronaviru...</td>\n",
       "      <td>CNN</td>\n",
       "      <td>50 mins ago</td>\n",
       "      <td>2021-02-03 22:00:00</td>\n",
       "      <td>Covid-19</td>\n",
       "      <td>2</td>\n",
       "      <td>www.cnn.com</td>\n",
       "      <td>NaN</td>\n",
       "      <td>www.cnn.com</td>\n",
       "    </tr>\n",
       "    <tr>\n",
       "      <th>2</th>\n",
       "      <td>Chiefs' Daniel Kilgore releases photo of unfin...</td>\n",
       "      <td>https://www.foxnews.com/sports/chiefs-daniel-k...</td>\n",
       "      <td>Fox News</td>\n",
       "      <td>48 mins ago</td>\n",
       "      <td>2021-02-03 22:00:00</td>\n",
       "      <td>Covid-19</td>\n",
       "      <td>3</td>\n",
       "      <td>www.foxnews.com</td>\n",
       "      <td>NaN</td>\n",
       "      <td>www.foxnews.com</td>\n",
       "    </tr>\n",
       "    <tr>\n",
       "      <th>3</th>\n",
       "      <td>Younger adults are biggest spreaders of Covid-...</td>\n",
       "      <td>https://www.cnn.com/2021/02/03/health/younger-...</td>\n",
       "      <td>CNN</td>\n",
       "      <td>35 mins ago</td>\n",
       "      <td>2021-02-03 22:00:00</td>\n",
       "      <td>Covid-19</td>\n",
       "      <td>4</td>\n",
       "      <td>www.cnn.com</td>\n",
       "      <td>NaN</td>\n",
       "      <td>www.cnn.com</td>\n",
       "    </tr>\n",
       "    <tr>\n",
       "      <th>4</th>\n",
       "      <td>Idaho’s daily average of new COVID-19 cases re...</td>\n",
       "      <td>https://www.idahostatesman.com/news/coronaviru...</td>\n",
       "      <td>Idaho Statesman</td>\n",
       "      <td>51 mins ago</td>\n",
       "      <td>2021-02-03 22:00:00</td>\n",
       "      <td>Covid-19</td>\n",
       "      <td>5</td>\n",
       "      <td>www.idahostatesman.com</td>\n",
       "      <td>NaN</td>\n",
       "      <td>www.idahostatesman.com</td>\n",
       "    </tr>\n",
       "  </tbody>\n",
       "</table>\n",
       "</div>"
      ],
      "text/plain": [
       "                                               title  \\\n",
       "0             Live Covid-19 News Updates: The Latest   \n",
       "1  The latest on the coronavirus pandemic and vac...   \n",
       "2  Chiefs' Daniel Kilgore releases photo of unfin...   \n",
       "3  Younger adults are biggest spreaders of Covid-...   \n",
       "4  Idaho’s daily average of new COVID-19 cases re...   \n",
       "\n",
       "                                                 url              source  \\\n",
       "0  https://www.nytimes.com/live/2021/02/03/world/...  The New York Times   \n",
       "1  https://www.cnn.com/world/live-news/coronaviru...                 CNN   \n",
       "2  https://www.foxnews.com/sports/chiefs-daniel-k...            Fox News   \n",
       "3  https://www.cnn.com/2021/02/03/health/younger-...                 CNN   \n",
       "4  https://www.idahostatesman.com/news/coronaviru...     Idaho Statesman   \n",
       "\n",
       "          time                 date     query  story_position  \\\n",
       "0  2 hours ago  2021-02-03 22:00:00  Covid-19               1   \n",
       "1  50 mins ago  2021-02-03 22:00:00  Covid-19               2   \n",
       "2  48 mins ago  2021-02-03 22:00:00  Covid-19               3   \n",
       "3  35 mins ago  2021-02-03 22:00:00  Covid-19               4   \n",
       "4  51 mins ago  2021-02-03 22:00:00  Covid-19               5   \n",
       "\n",
       "                   domain category                 domain2  \n",
       "0         www.nytimes.com      NaN         www.nytimes.com  \n",
       "1             www.cnn.com      NaN             www.cnn.com  \n",
       "2         www.foxnews.com      NaN         www.foxnews.com  \n",
       "3             www.cnn.com      NaN             www.cnn.com  \n",
       "4  www.idahostatesman.com      NaN  www.idahostatesman.com  "
      ]
     },
     "execution_count": 17,
     "metadata": {},
     "output_type": "execute_result"
    }
   ],
   "source": [
    "df['domain2'] = df['url'].apply(getDomain)\n",
    "df.head()"
   ]
  },
  {
   "cell_type": "markdown",
   "id": "8eec9de3-9458-4b8f-b2d9-8580b2b39029",
   "metadata": {},
   "source": [
    "**Your Task: Create a new column**\n",
    "\n",
    "Create a new column that will store the number of words on the title of each article. The column name should be `wordCount`. Show the head of the dataframe to indicate that the column was created."
   ]
  },
  {
   "cell_type": "code",
   "execution_count": 18,
   "id": "48f7458a-b4ed-4f3d-976f-055cd0d0f542",
   "metadata": {},
   "outputs": [],
   "source": [
    "def getNumWords(title):\n",
    "    return len(title.split(' '))"
   ]
  },
  {
   "cell_type": "code",
   "execution_count": 19,
   "id": "de352e08-9a19-499e-b0b0-3ef590f69155",
   "metadata": {},
   "outputs": [
    {
     "data": {
      "text/html": [
       "<div>\n",
       "<style scoped>\n",
       "    .dataframe tbody tr th:only-of-type {\n",
       "        vertical-align: middle;\n",
       "    }\n",
       "\n",
       "    .dataframe tbody tr th {\n",
       "        vertical-align: top;\n",
       "    }\n",
       "\n",
       "    .dataframe thead th {\n",
       "        text-align: right;\n",
       "    }\n",
       "</style>\n",
       "<table border=\"1\" class=\"dataframe\">\n",
       "  <thead>\n",
       "    <tr style=\"text-align: right;\">\n",
       "      <th></th>\n",
       "      <th>title</th>\n",
       "      <th>url</th>\n",
       "      <th>source</th>\n",
       "      <th>time</th>\n",
       "      <th>date</th>\n",
       "      <th>query</th>\n",
       "      <th>story_position</th>\n",
       "      <th>domain</th>\n",
       "      <th>category</th>\n",
       "      <th>domain2</th>\n",
       "      <th>wordCount</th>\n",
       "    </tr>\n",
       "  </thead>\n",
       "  <tbody>\n",
       "    <tr>\n",
       "      <th>0</th>\n",
       "      <td>Live Covid-19 News Updates: The Latest</td>\n",
       "      <td>https://www.nytimes.com/live/2021/02/03/world/...</td>\n",
       "      <td>The New York Times</td>\n",
       "      <td>2 hours ago</td>\n",
       "      <td>2021-02-03 22:00:00</td>\n",
       "      <td>Covid-19</td>\n",
       "      <td>1</td>\n",
       "      <td>www.nytimes.com</td>\n",
       "      <td>NaN</td>\n",
       "      <td>www.nytimes.com</td>\n",
       "      <td>6</td>\n",
       "    </tr>\n",
       "    <tr>\n",
       "      <th>1</th>\n",
       "      <td>The latest on the coronavirus pandemic and vac...</td>\n",
       "      <td>https://www.cnn.com/world/live-news/coronaviru...</td>\n",
       "      <td>CNN</td>\n",
       "      <td>50 mins ago</td>\n",
       "      <td>2021-02-03 22:00:00</td>\n",
       "      <td>Covid-19</td>\n",
       "      <td>2</td>\n",
       "      <td>www.cnn.com</td>\n",
       "      <td>NaN</td>\n",
       "      <td>www.cnn.com</td>\n",
       "      <td>10</td>\n",
       "    </tr>\n",
       "    <tr>\n",
       "      <th>2</th>\n",
       "      <td>Chiefs' Daniel Kilgore releases photo of unfin...</td>\n",
       "      <td>https://www.foxnews.com/sports/chiefs-daniel-k...</td>\n",
       "      <td>Fox News</td>\n",
       "      <td>48 mins ago</td>\n",
       "      <td>2021-02-03 22:00:00</td>\n",
       "      <td>Covid-19</td>\n",
       "      <td>3</td>\n",
       "      <td>www.foxnews.com</td>\n",
       "      <td>NaN</td>\n",
       "      <td>www.foxnews.com</td>\n",
       "      <td>15</td>\n",
       "    </tr>\n",
       "    <tr>\n",
       "      <th>3</th>\n",
       "      <td>Younger adults are biggest spreaders of Covid-...</td>\n",
       "      <td>https://www.cnn.com/2021/02/03/health/younger-...</td>\n",
       "      <td>CNN</td>\n",
       "      <td>35 mins ago</td>\n",
       "      <td>2021-02-03 22:00:00</td>\n",
       "      <td>Covid-19</td>\n",
       "      <td>4</td>\n",
       "      <td>www.cnn.com</td>\n",
       "      <td>NaN</td>\n",
       "      <td>www.cnn.com</td>\n",
       "      <td>9</td>\n",
       "    </tr>\n",
       "    <tr>\n",
       "      <th>4</th>\n",
       "      <td>Idaho’s daily average of new COVID-19 cases re...</td>\n",
       "      <td>https://www.idahostatesman.com/news/coronaviru...</td>\n",
       "      <td>Idaho Statesman</td>\n",
       "      <td>51 mins ago</td>\n",
       "      <td>2021-02-03 22:00:00</td>\n",
       "      <td>Covid-19</td>\n",
       "      <td>5</td>\n",
       "      <td>www.idahostatesman.com</td>\n",
       "      <td>NaN</td>\n",
       "      <td>www.idahostatesman.com</td>\n",
       "      <td>13</td>\n",
       "    </tr>\n",
       "  </tbody>\n",
       "</table>\n",
       "</div>"
      ],
      "text/plain": [
       "                                               title  \\\n",
       "0             Live Covid-19 News Updates: The Latest   \n",
       "1  The latest on the coronavirus pandemic and vac...   \n",
       "2  Chiefs' Daniel Kilgore releases photo of unfin...   \n",
       "3  Younger adults are biggest spreaders of Covid-...   \n",
       "4  Idaho’s daily average of new COVID-19 cases re...   \n",
       "\n",
       "                                                 url              source  \\\n",
       "0  https://www.nytimes.com/live/2021/02/03/world/...  The New York Times   \n",
       "1  https://www.cnn.com/world/live-news/coronaviru...                 CNN   \n",
       "2  https://www.foxnews.com/sports/chiefs-daniel-k...            Fox News   \n",
       "3  https://www.cnn.com/2021/02/03/health/younger-...                 CNN   \n",
       "4  https://www.idahostatesman.com/news/coronaviru...     Idaho Statesman   \n",
       "\n",
       "          time                 date     query  story_position  \\\n",
       "0  2 hours ago  2021-02-03 22:00:00  Covid-19               1   \n",
       "1  50 mins ago  2021-02-03 22:00:00  Covid-19               2   \n",
       "2  48 mins ago  2021-02-03 22:00:00  Covid-19               3   \n",
       "3  35 mins ago  2021-02-03 22:00:00  Covid-19               4   \n",
       "4  51 mins ago  2021-02-03 22:00:00  Covid-19               5   \n",
       "\n",
       "                   domain category                 domain2  wordCount  \n",
       "0         www.nytimes.com      NaN         www.nytimes.com          6  \n",
       "1             www.cnn.com      NaN             www.cnn.com         10  \n",
       "2         www.foxnews.com      NaN         www.foxnews.com         15  \n",
       "3             www.cnn.com      NaN             www.cnn.com          9  \n",
       "4  www.idahostatesman.com      NaN  www.idahostatesman.com         13  "
      ]
     },
     "execution_count": 19,
     "metadata": {},
     "output_type": "execute_result"
    }
   ],
   "source": [
    "df['wordCount'] = df['title'].apply(getNumWords)\n",
    "df.head()"
   ]
  },
  {
   "cell_type": "markdown",
   "id": "deb72a7a-6e81-4171-b0ea-ace861271d8f",
   "metadata": {},
   "source": [
    "<a id=\"sec3\"></a>\n",
    "## Part 3: Bar chart of top 10 domains\n",
    "\n",
    "To create the bar chart of the top 10 domains, we first need to find the top 10 domains.\n",
    "\n",
    "The method `value_counts` returns a **sorted** series of counts for each value in a column."
   ]
  },
  {
   "cell_type": "code",
   "execution_count": 21,
   "id": "48d4c45f-c7e5-4137-a3b2-c7e9de8cb8dc",
   "metadata": {},
   "outputs": [],
   "source": [
    "# Find the top 10 domains using value_counts\n",
    "domainCounts = df['domain'].value_counts()[:10]"
   ]
  },
  {
   "cell_type": "markdown",
   "id": "9ca24649-ede3-44fd-bf47-562f31c0bbf3",
   "metadata": {},
   "source": [
    "Let's see what it looks like:"
   ]
  },
  {
   "cell_type": "code",
   "execution_count": 22,
   "id": "b83d7eaa-c881-4257-aee4-b84a9ef34952",
   "metadata": {},
   "outputs": [
    {
     "data": {
      "text/plain": [
       "domain\n",
       "www.cnn.com               1834\n",
       "www.nytimes.com           1246\n",
       "www.washingtonpost.com     826\n",
       "www.foxnews.com            801\n",
       "www.cnbc.com               577\n",
       "www.npr.org                544\n",
       "www.usatoday.com           492\n",
       "www.nbcnews.com            492\n",
       "thehill.com                477\n",
       "nypost.com                 459\n",
       "Name: count, dtype: int64"
      ]
     },
     "execution_count": 22,
     "metadata": {},
     "output_type": "execute_result"
    }
   ],
   "source": [
    "domainCounts"
   ]
  },
  {
   "cell_type": "markdown",
   "id": "77cb485b-4935-44da-b4bf-5e5c7b618460",
   "metadata": {},
   "source": [
    "Let's look up the type of our our result:"
   ]
  },
  {
   "cell_type": "code",
   "execution_count": 23,
   "id": "384c5af3-9cb6-4d80-b310-68bba8e0d8da",
   "metadata": {},
   "outputs": [
    {
     "data": {
      "text/plain": [
       "pandas.core.series.Series"
      ]
     },
     "execution_count": 23,
     "metadata": {},
     "output_type": "execute_result"
    }
   ],
   "source": [
    "type(domainCounts)"
   ]
  },
  {
   "cell_type": "markdown",
   "id": "a1e9758c-5ff7-4c45-b5dc-921e3787f129",
   "metadata": {},
   "source": [
    "Since the result is a Series, we will convert it to a dataframe. [**Note:** The method `reset_index` converts a Series into a DataFrame, where the original index becomes a column in the DataFrame, and the Series values occupies another column, for which we have to provide a column name.]"
   ]
  },
  {
   "cell_type": "code",
   "execution_count": 24,
   "id": "c446a56b-49d3-4ee9-aa3c-7b049a7bc8e7",
   "metadata": {},
   "outputs": [
    {
     "data": {
      "text/html": [
       "<div>\n",
       "<style scoped>\n",
       "    .dataframe tbody tr th:only-of-type {\n",
       "        vertical-align: middle;\n",
       "    }\n",
       "\n",
       "    .dataframe tbody tr th {\n",
       "        vertical-align: top;\n",
       "    }\n",
       "\n",
       "    .dataframe thead th {\n",
       "        text-align: right;\n",
       "    }\n",
       "</style>\n",
       "<table border=\"1\" class=\"dataframe\">\n",
       "  <thead>\n",
       "    <tr style=\"text-align: right;\">\n",
       "      <th></th>\n",
       "      <th>domain</th>\n",
       "      <th>count</th>\n",
       "    </tr>\n",
       "  </thead>\n",
       "  <tbody>\n",
       "    <tr>\n",
       "      <th>0</th>\n",
       "      <td>www.cnn.com</td>\n",
       "      <td>1834</td>\n",
       "    </tr>\n",
       "    <tr>\n",
       "      <th>1</th>\n",
       "      <td>www.nytimes.com</td>\n",
       "      <td>1246</td>\n",
       "    </tr>\n",
       "    <tr>\n",
       "      <th>2</th>\n",
       "      <td>www.washingtonpost.com</td>\n",
       "      <td>826</td>\n",
       "    </tr>\n",
       "    <tr>\n",
       "      <th>3</th>\n",
       "      <td>www.foxnews.com</td>\n",
       "      <td>801</td>\n",
       "    </tr>\n",
       "    <tr>\n",
       "      <th>4</th>\n",
       "      <td>www.cnbc.com</td>\n",
       "      <td>577</td>\n",
       "    </tr>\n",
       "    <tr>\n",
       "      <th>5</th>\n",
       "      <td>www.npr.org</td>\n",
       "      <td>544</td>\n",
       "    </tr>\n",
       "    <tr>\n",
       "      <th>6</th>\n",
       "      <td>www.usatoday.com</td>\n",
       "      <td>492</td>\n",
       "    </tr>\n",
       "    <tr>\n",
       "      <th>7</th>\n",
       "      <td>www.nbcnews.com</td>\n",
       "      <td>492</td>\n",
       "    </tr>\n",
       "    <tr>\n",
       "      <th>8</th>\n",
       "      <td>thehill.com</td>\n",
       "      <td>477</td>\n",
       "    </tr>\n",
       "    <tr>\n",
       "      <th>9</th>\n",
       "      <td>nypost.com</td>\n",
       "      <td>459</td>\n",
       "    </tr>\n",
       "  </tbody>\n",
       "</table>\n",
       "</div>"
      ],
      "text/plain": [
       "                   domain  count\n",
       "0             www.cnn.com   1834\n",
       "1         www.nytimes.com   1246\n",
       "2  www.washingtonpost.com    826\n",
       "3         www.foxnews.com    801\n",
       "4            www.cnbc.com    577\n",
       "5             www.npr.org    544\n",
       "6        www.usatoday.com    492\n",
       "7         www.nbcnews.com    492\n",
       "8             thehill.com    477\n",
       "9              nypost.com    459"
      ]
     },
     "execution_count": 24,
     "metadata": {},
     "output_type": "execute_result"
    }
   ],
   "source": [
    "data = domainCounts.reset_index(name='count')\n",
    "data"
   ]
  },
  {
   "cell_type": "markdown",
   "id": "639d2b4c-8874-4f38-ad7e-49703f777cf5",
   "metadata": {},
   "source": [
    "Now that we have a dataframe we can use Seaborn to generate charts. Below I'm creating a bar plot."
   ]
  },
  {
   "cell_type": "code",
   "execution_count": 25,
   "id": "79831878-17d2-4c07-bfbc-965757b44a65",
   "metadata": {},
   "outputs": [
    {
     "data": {
      "image/png": "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",
      "text/plain": [
       "<Figure size 800x400 with 1 Axes>"
      ]
     },
     "metadata": {},
     "output_type": "display_data"
    }
   ],
   "source": [
    "import seaborn as sns\n",
    "import matplotlib.pyplot as plt\n",
    "\n",
    "plt.figure(figsize=(8, 4))   # adjusting the size of the figure where the plot will be displayed\n",
    "sns.set_style(\"whitegrid\")  \n",
    "\n",
    "# Create the horizontal bar plot\n",
    "ax = sns.barplot(x='count', y='domain', data=data, color=\"salmon\", legend=None)\n",
    "\n",
    "# Set titles\n",
    "ax.set_xlabel(\"Count\", fontsize=10)\n",
    "ax.set_ylabel(\"Domain\", fontsize=10)\n",
    "ax.set_title(\"Top 10 Domains by Count\", fontsize=14)\n",
    "\n",
    "# Display the plot\n",
    "plt.show()"
   ]
  },
  {
   "cell_type": "markdown",
   "id": "b1576471-b181-4d79-9651-3bf5d8178476",
   "metadata": {},
   "source": [
    "**Your Task: Create a bar chart of query occurrences**\n",
    "\n",
    "Adapt the code above to generate the bar chart of the query occurrences. Make sure that you change the barplot titles to reflect the new variable being displayed. Change the color of the graph and [visit this Seaborn documentation page](https://seaborn.pydata.org/tutorial/aesthetics.html) for inspiration on changing the style of the plot."
   ]
  },
  {
   "cell_type": "code",
   "execution_count": 27,
   "id": "1b24e808-f9a7-47cb-8a74-63ee6e298aaa",
   "metadata": {},
   "outputs": [],
   "source": [
    "# Find the top 10 domains using value_counts\n",
    "queryCounts = df['query'].value_counts()[:10]"
   ]
  },
  {
   "cell_type": "code",
   "execution_count": 30,
   "id": "db872f7b",
   "metadata": {},
   "outputs": [],
   "source": [
    "data = queryCounts.reset_index(name='count')"
   ]
  },
  {
   "cell_type": "code",
   "execution_count": 33,
   "id": "d1ee7935-5305-4e18-8013-43c11a034899",
   "metadata": {},
   "outputs": [
    {
     "data": {
      "image/png": "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",
      "text/plain": [
       "<Figure size 800x400 with 1 Axes>"
      ]
     },
     "metadata": {},
     "output_type": "display_data"
    }
   ],
   "source": [
    "plt.figure(figsize=(8, 4))   # adjusting the size of the figure where the plot will be displayed\n",
    "sns.set_style(\"whitegrid\")  \n",
    "\n",
    "# Create the horizontal bar plot\n",
    "ax = sns.barplot(x='count', y='query', data=data, color=\"salmon\", legend=None)\n",
    "\n",
    "# Set titles\n",
    "ax.set_xlabel(\"Count\", fontsize=10)\n",
    "ax.set_ylabel(\"Query\", fontsize=10)\n",
    "ax.set_title(\"Occurrence by query\", fontsize=14)\n",
    "\n",
    "# Display the plot\n",
    "plt.show()"
   ]
  },
  {
   "cell_type": "markdown",
   "id": "77dc99af-71f7-42a4-8085-8f07c92f569f",
   "metadata": {},
   "source": [
    "<a id=\"sec4\"></a>\n",
    "## Part 4: Heatmap for the story positions\n",
    "\n",
    "We are interested in the question: Are all news sources equally likely to show up in all positions? Or some of them show up more frequently in a certain position? To explore this question visually, we will create a heatmap. However, since there are hundreds of news sources in our dataset, we will focus only on the top 10 for simplicity."
   ]
  },
  {
   "cell_type": "code",
   "execution_count": 34,
   "id": "16365311-07f9-407a-b2ed-9dad0990cdb4",
   "metadata": {},
   "outputs": [
    {
     "data": {
      "text/plain": [
       "(7748, 11)"
      ]
     },
     "execution_count": 34,
     "metadata": {},
     "output_type": "execute_result"
    }
   ],
   "source": [
    "# First, find the names of the top 10 domains\n",
    "# Then, filter the dataframe to select only the rows of one of the top 10 domains (articles that belong to these news domains)\n",
    "\n",
    "topTen = df['domain'].value_counts()[:10].index.tolist() # remember from part 3 that value_counts returns a Series and the 'domain' column is the index of it\n",
    "dfSmall = df[df['domain'].isin(topTen)] # do the filtering. Notice the filter syntax.\n",
    "dfSmall.shape"
   ]
  },
  {
   "cell_type": "markdown",
   "id": "ef8ed4ea-b290-42a6-ac43-fa047424f17c",
   "metadata": {},
   "source": [
    "As a reminder, here is what the size of the whole dataframe is:"
   ]
  },
  {
   "cell_type": "code",
   "execution_count": 35,
   "id": "106088f6-0377-4c20-b125-548008176957",
   "metadata": {},
   "outputs": [
    {
     "data": {
      "text/plain": [
       "(16948, 11)"
      ]
     },
     "execution_count": 35,
     "metadata": {},
     "output_type": "execute_result"
    }
   ],
   "source": [
    "df.shape"
   ]
  },
  {
   "cell_type": "markdown",
   "id": "e398e80a-70df-4dff-b435-0ed9331005f6",
   "metadata": {},
   "source": [
    "Let's calcuate the proportion of articles from the top 10 domains:"
   ]
  },
  {
   "cell_type": "code",
   "execution_count": 36,
   "id": "96f25f95-3ef7-416a-a8ba-644a7232e52a",
   "metadata": {},
   "outputs": [
    {
     "data": {
      "text/plain": [
       "45.71630870899221"
      ]
     },
     "execution_count": 36,
     "metadata": {},
     "output_type": "execute_result"
    }
   ],
   "source": [
    "proportion = dfSmall.shape[0]/df.shape[0] * 100\n",
    "proportion"
   ]
  },
  {
   "cell_type": "markdown",
   "id": "0e41c91a-edd9-42b4-9d20-8af50df60a0d",
   "metadata": {},
   "source": [
    "**Question:** What does the fact that the proportion of the occurrences of the top 10 domains comes at 45% tell us about Google's algorithms?"
   ]
  },
  {
   "attachments": {},
   "cell_type": "markdown",
   "id": "80bf7d37-fd2f-4e75-a54d-a396b1442a73",
   "metadata": {},
   "source": [
    "**Your Answer:** \n",
    "It is biased towards the top 10 domains"
   ]
  },
  {
   "cell_type": "markdown",
   "id": "911c0a4a-ad73-4378-b60c-0de298f090c4",
   "metadata": {},
   "source": [
    "### Creating a pivot table\n",
    "\n",
    "Our current dataframe, `dfSmall` presents itself as a **tidy table**, each row is an observation. We will now convert it to a form that it is not a **tidy table**, because the columns will become values of the variable \"story_position\". This will allow us to count how many domains show up in each of the 10 positions.\n",
    "\n",
    "To create such a table we will use pandas' `pivot_table` method, which builds upon the `groupby` method that we have seen."
   ]
  },
  {
   "cell_type": "code",
   "execution_count": 38,
   "id": "de0385ae-39bf-4ac2-82c9-67f05cdc6c6b",
   "metadata": {},
   "outputs": [
    {
     "data": {
      "text/html": [
       "<div>\n",
       "<style scoped>\n",
       "    .dataframe tbody tr th:only-of-type {\n",
       "        vertical-align: middle;\n",
       "    }\n",
       "\n",
       "    .dataframe tbody tr th {\n",
       "        vertical-align: top;\n",
       "    }\n",
       "\n",
       "    .dataframe thead th {\n",
       "        text-align: right;\n",
       "    }\n",
       "</style>\n",
       "<table border=\"1\" class=\"dataframe\">\n",
       "  <thead>\n",
       "    <tr style=\"text-align: right;\">\n",
       "      <th>story_position</th>\n",
       "      <th>1</th>\n",
       "      <th>2</th>\n",
       "      <th>3</th>\n",
       "      <th>4</th>\n",
       "      <th>5</th>\n",
       "      <th>6</th>\n",
       "      <th>7</th>\n",
       "      <th>8</th>\n",
       "      <th>9</th>\n",
       "      <th>10</th>\n",
       "    </tr>\n",
       "    <tr>\n",
       "      <th>domain</th>\n",
       "      <th></th>\n",
       "      <th></th>\n",
       "      <th></th>\n",
       "      <th></th>\n",
       "      <th></th>\n",
       "      <th></th>\n",
       "      <th></th>\n",
       "      <th></th>\n",
       "      <th></th>\n",
       "      <th></th>\n",
       "    </tr>\n",
       "  </thead>\n",
       "  <tbody>\n",
       "    <tr>\n",
       "      <th>nypost.com</th>\n",
       "      <td>64</td>\n",
       "      <td>65</td>\n",
       "      <td>75</td>\n",
       "      <td>37</td>\n",
       "      <td>33</td>\n",
       "      <td>37</td>\n",
       "      <td>41</td>\n",
       "      <td>39</td>\n",
       "      <td>36</td>\n",
       "      <td>32</td>\n",
       "    </tr>\n",
       "    <tr>\n",
       "      <th>thehill.com</th>\n",
       "      <td>32</td>\n",
       "      <td>43</td>\n",
       "      <td>82</td>\n",
       "      <td>70</td>\n",
       "      <td>62</td>\n",
       "      <td>28</td>\n",
       "      <td>39</td>\n",
       "      <td>55</td>\n",
       "      <td>37</td>\n",
       "      <td>29</td>\n",
       "    </tr>\n",
       "    <tr>\n",
       "      <th>www.cnbc.com</th>\n",
       "      <td>103</td>\n",
       "      <td>77</td>\n",
       "      <td>57</td>\n",
       "      <td>50</td>\n",
       "      <td>49</td>\n",
       "      <td>53</td>\n",
       "      <td>39</td>\n",
       "      <td>38</td>\n",
       "      <td>51</td>\n",
       "      <td>60</td>\n",
       "    </tr>\n",
       "    <tr>\n",
       "      <th>www.cnn.com</th>\n",
       "      <td>479</td>\n",
       "      <td>480</td>\n",
       "      <td>190</td>\n",
       "      <td>98</td>\n",
       "      <td>82</td>\n",
       "      <td>138</td>\n",
       "      <td>122</td>\n",
       "      <td>100</td>\n",
       "      <td>80</td>\n",
       "      <td>65</td>\n",
       "    </tr>\n",
       "    <tr>\n",
       "      <th>www.foxnews.com</th>\n",
       "      <td>99</td>\n",
       "      <td>101</td>\n",
       "      <td>137</td>\n",
       "      <td>79</td>\n",
       "      <td>74</td>\n",
       "      <td>87</td>\n",
       "      <td>56</td>\n",
       "      <td>60</td>\n",
       "      <td>55</td>\n",
       "      <td>53</td>\n",
       "    </tr>\n",
       "    <tr>\n",
       "      <th>www.nbcnews.com</th>\n",
       "      <td>30</td>\n",
       "      <td>63</td>\n",
       "      <td>51</td>\n",
       "      <td>36</td>\n",
       "      <td>41</td>\n",
       "      <td>38</td>\n",
       "      <td>64</td>\n",
       "      <td>58</td>\n",
       "      <td>51</td>\n",
       "      <td>60</td>\n",
       "    </tr>\n",
       "    <tr>\n",
       "      <th>www.npr.org</th>\n",
       "      <td>86</td>\n",
       "      <td>108</td>\n",
       "      <td>42</td>\n",
       "      <td>21</td>\n",
       "      <td>22</td>\n",
       "      <td>41</td>\n",
       "      <td>48</td>\n",
       "      <td>55</td>\n",
       "      <td>65</td>\n",
       "      <td>56</td>\n",
       "    </tr>\n",
       "    <tr>\n",
       "      <th>www.nytimes.com</th>\n",
       "      <td>634</td>\n",
       "      <td>274</td>\n",
       "      <td>75</td>\n",
       "      <td>22</td>\n",
       "      <td>29</td>\n",
       "      <td>42</td>\n",
       "      <td>47</td>\n",
       "      <td>51</td>\n",
       "      <td>38</td>\n",
       "      <td>34</td>\n",
       "    </tr>\n",
       "    <tr>\n",
       "      <th>www.usatoday.com</th>\n",
       "      <td>47</td>\n",
       "      <td>61</td>\n",
       "      <td>74</td>\n",
       "      <td>33</td>\n",
       "      <td>31</td>\n",
       "      <td>48</td>\n",
       "      <td>49</td>\n",
       "      <td>49</td>\n",
       "      <td>52</td>\n",
       "      <td>48</td>\n",
       "    </tr>\n",
       "    <tr>\n",
       "      <th>www.washingtonpost.com</th>\n",
       "      <td>179</td>\n",
       "      <td>230</td>\n",
       "      <td>95</td>\n",
       "      <td>40</td>\n",
       "      <td>35</td>\n",
       "      <td>72</td>\n",
       "      <td>60</td>\n",
       "      <td>41</td>\n",
       "      <td>39</td>\n",
       "      <td>35</td>\n",
       "    </tr>\n",
       "  </tbody>\n",
       "</table>\n",
       "</div>"
      ],
      "text/plain": [
       "story_position           1    2    3   4   5    6    7    8   9   10\n",
       "domain                                                              \n",
       "nypost.com               64   65   75  37  33   37   41   39  36  32\n",
       "thehill.com              32   43   82  70  62   28   39   55  37  29\n",
       "www.cnbc.com            103   77   57  50  49   53   39   38  51  60\n",
       "www.cnn.com             479  480  190  98  82  138  122  100  80  65\n",
       "www.foxnews.com          99  101  137  79  74   87   56   60  55  53\n",
       "www.nbcnews.com          30   63   51  36  41   38   64   58  51  60\n",
       "www.npr.org              86  108   42  21  22   41   48   55  65  56\n",
       "www.nytimes.com         634  274   75  22  29   42   47   51  38  34\n",
       "www.usatoday.com         47   61   74  33  31   48   49   49  52  48\n",
       "www.washingtonpost.com  179  230   95  40  35   72   60   41  39  35"
      ]
     },
     "execution_count": 38,
     "metadata": {},
     "output_type": "execute_result"
    }
   ],
   "source": [
    "# First, let's create the pivot table to count each domain occurrence by position\n",
    "\n",
    "dfFinal = dfSmall[['domain', 'story_position']] # work with a two-column dataframe\n",
    "\n",
    "pivotDF = dfFinal.pivot_table(index='domain', columns='story_position', \n",
    "                              aggfunc='size',fill_value=0)\n",
    "pivotDF.head(10)"
   ]
  },
  {
   "cell_type": "markdown",
   "id": "0327276f-9197-4a53-ae8a-1351a646a499",
   "metadata": {},
   "source": [
    "Now that we have a dataframe, let's normalize the rows by dividing each cell in a column by the sum of values of that row:"
   ]
  },
  {
   "cell_type": "code",
   "execution_count": 40,
   "id": "99bb6b82-65e2-481f-ac04-33b767c97815",
   "metadata": {},
   "outputs": [
    {
     "data": {
      "text/html": [
       "<div>\n",
       "<style scoped>\n",
       "    .dataframe tbody tr th:only-of-type {\n",
       "        vertical-align: middle;\n",
       "    }\n",
       "\n",
       "    .dataframe tbody tr th {\n",
       "        vertical-align: top;\n",
       "    }\n",
       "\n",
       "    .dataframe thead th {\n",
       "        text-align: right;\n",
       "    }\n",
       "</style>\n",
       "<table border=\"1\" class=\"dataframe\">\n",
       "  <thead>\n",
       "    <tr style=\"text-align: right;\">\n",
       "      <th>story_position</th>\n",
       "      <th>1</th>\n",
       "      <th>2</th>\n",
       "      <th>3</th>\n",
       "      <th>4</th>\n",
       "      <th>5</th>\n",
       "      <th>6</th>\n",
       "      <th>7</th>\n",
       "      <th>8</th>\n",
       "      <th>9</th>\n",
       "      <th>10</th>\n",
       "    </tr>\n",
       "    <tr>\n",
       "      <th>domain</th>\n",
       "      <th></th>\n",
       "      <th></th>\n",
       "      <th></th>\n",
       "      <th></th>\n",
       "      <th></th>\n",
       "      <th></th>\n",
       "      <th></th>\n",
       "      <th></th>\n",
       "      <th></th>\n",
       "      <th></th>\n",
       "    </tr>\n",
       "  </thead>\n",
       "  <tbody>\n",
       "    <tr>\n",
       "      <th>nypost.com</th>\n",
       "      <td>0.139434</td>\n",
       "      <td>0.141612</td>\n",
       "      <td>0.163399</td>\n",
       "      <td>0.080610</td>\n",
       "      <td>0.071895</td>\n",
       "      <td>0.080610</td>\n",
       "      <td>0.089325</td>\n",
       "      <td>0.084967</td>\n",
       "      <td>0.078431</td>\n",
       "      <td>0.069717</td>\n",
       "    </tr>\n",
       "    <tr>\n",
       "      <th>thehill.com</th>\n",
       "      <td>0.067086</td>\n",
       "      <td>0.090147</td>\n",
       "      <td>0.171908</td>\n",
       "      <td>0.146751</td>\n",
       "      <td>0.129979</td>\n",
       "      <td>0.058700</td>\n",
       "      <td>0.081761</td>\n",
       "      <td>0.115304</td>\n",
       "      <td>0.077568</td>\n",
       "      <td>0.060797</td>\n",
       "    </tr>\n",
       "    <tr>\n",
       "      <th>www.cnbc.com</th>\n",
       "      <td>0.178510</td>\n",
       "      <td>0.133449</td>\n",
       "      <td>0.098787</td>\n",
       "      <td>0.086655</td>\n",
       "      <td>0.084922</td>\n",
       "      <td>0.091854</td>\n",
       "      <td>0.067591</td>\n",
       "      <td>0.065858</td>\n",
       "      <td>0.088388</td>\n",
       "      <td>0.103986</td>\n",
       "    </tr>\n",
       "    <tr>\n",
       "      <th>www.cnn.com</th>\n",
       "      <td>0.261178</td>\n",
       "      <td>0.261723</td>\n",
       "      <td>0.103599</td>\n",
       "      <td>0.053435</td>\n",
       "      <td>0.044711</td>\n",
       "      <td>0.075245</td>\n",
       "      <td>0.066521</td>\n",
       "      <td>0.054526</td>\n",
       "      <td>0.043621</td>\n",
       "      <td>0.035442</td>\n",
       "    </tr>\n",
       "    <tr>\n",
       "      <th>www.foxnews.com</th>\n",
       "      <td>0.123596</td>\n",
       "      <td>0.126092</td>\n",
       "      <td>0.171036</td>\n",
       "      <td>0.098627</td>\n",
       "      <td>0.092385</td>\n",
       "      <td>0.108614</td>\n",
       "      <td>0.069913</td>\n",
       "      <td>0.074906</td>\n",
       "      <td>0.068664</td>\n",
       "      <td>0.066167</td>\n",
       "    </tr>\n",
       "    <tr>\n",
       "      <th>www.nbcnews.com</th>\n",
       "      <td>0.060976</td>\n",
       "      <td>0.128049</td>\n",
       "      <td>0.103659</td>\n",
       "      <td>0.073171</td>\n",
       "      <td>0.083333</td>\n",
       "      <td>0.077236</td>\n",
       "      <td>0.130081</td>\n",
       "      <td>0.117886</td>\n",
       "      <td>0.103659</td>\n",
       "      <td>0.121951</td>\n",
       "    </tr>\n",
       "    <tr>\n",
       "      <th>www.npr.org</th>\n",
       "      <td>0.158088</td>\n",
       "      <td>0.198529</td>\n",
       "      <td>0.077206</td>\n",
       "      <td>0.038603</td>\n",
       "      <td>0.040441</td>\n",
       "      <td>0.075368</td>\n",
       "      <td>0.088235</td>\n",
       "      <td>0.101103</td>\n",
       "      <td>0.119485</td>\n",
       "      <td>0.102941</td>\n",
       "    </tr>\n",
       "    <tr>\n",
       "      <th>www.nytimes.com</th>\n",
       "      <td>0.508828</td>\n",
       "      <td>0.219904</td>\n",
       "      <td>0.060193</td>\n",
       "      <td>0.017657</td>\n",
       "      <td>0.023274</td>\n",
       "      <td>0.033708</td>\n",
       "      <td>0.037721</td>\n",
       "      <td>0.040931</td>\n",
       "      <td>0.030498</td>\n",
       "      <td>0.027287</td>\n",
       "    </tr>\n",
       "    <tr>\n",
       "      <th>www.usatoday.com</th>\n",
       "      <td>0.095528</td>\n",
       "      <td>0.123984</td>\n",
       "      <td>0.150407</td>\n",
       "      <td>0.067073</td>\n",
       "      <td>0.063008</td>\n",
       "      <td>0.097561</td>\n",
       "      <td>0.099593</td>\n",
       "      <td>0.099593</td>\n",
       "      <td>0.105691</td>\n",
       "      <td>0.097561</td>\n",
       "    </tr>\n",
       "    <tr>\n",
       "      <th>www.washingtonpost.com</th>\n",
       "      <td>0.216707</td>\n",
       "      <td>0.278450</td>\n",
       "      <td>0.115012</td>\n",
       "      <td>0.048426</td>\n",
       "      <td>0.042373</td>\n",
       "      <td>0.087167</td>\n",
       "      <td>0.072639</td>\n",
       "      <td>0.049637</td>\n",
       "      <td>0.047215</td>\n",
       "      <td>0.042373</td>\n",
       "    </tr>\n",
       "  </tbody>\n",
       "</table>\n",
       "</div>"
      ],
      "text/plain": [
       "story_position                1         2         3         4         5   \\\n",
       "domain                                                                     \n",
       "nypost.com              0.139434  0.141612  0.163399  0.080610  0.071895   \n",
       "thehill.com             0.067086  0.090147  0.171908  0.146751  0.129979   \n",
       "www.cnbc.com            0.178510  0.133449  0.098787  0.086655  0.084922   \n",
       "www.cnn.com             0.261178  0.261723  0.103599  0.053435  0.044711   \n",
       "www.foxnews.com         0.123596  0.126092  0.171036  0.098627  0.092385   \n",
       "www.nbcnews.com         0.060976  0.128049  0.103659  0.073171  0.083333   \n",
       "www.npr.org             0.158088  0.198529  0.077206  0.038603  0.040441   \n",
       "www.nytimes.com         0.508828  0.219904  0.060193  0.017657  0.023274   \n",
       "www.usatoday.com        0.095528  0.123984  0.150407  0.067073  0.063008   \n",
       "www.washingtonpost.com  0.216707  0.278450  0.115012  0.048426  0.042373   \n",
       "\n",
       "story_position                6         7         8         9         10  \n",
       "domain                                                                    \n",
       "nypost.com              0.080610  0.089325  0.084967  0.078431  0.069717  \n",
       "thehill.com             0.058700  0.081761  0.115304  0.077568  0.060797  \n",
       "www.cnbc.com            0.091854  0.067591  0.065858  0.088388  0.103986  \n",
       "www.cnn.com             0.075245  0.066521  0.054526  0.043621  0.035442  \n",
       "www.foxnews.com         0.108614  0.069913  0.074906  0.068664  0.066167  \n",
       "www.nbcnews.com         0.077236  0.130081  0.117886  0.103659  0.121951  \n",
       "www.npr.org             0.075368  0.088235  0.101103  0.119485  0.102941  \n",
       "www.nytimes.com         0.033708  0.037721  0.040931  0.030498  0.027287  \n",
       "www.usatoday.com        0.097561  0.099593  0.099593  0.105691  0.097561  \n",
       "www.washingtonpost.com  0.087167  0.072639  0.049637  0.047215  0.042373  "
      ]
     },
     "execution_count": 40,
     "metadata": {},
     "output_type": "execute_result"
    }
   ],
   "source": [
    "normalized = pivotDF.div(pivotDF.sum(axis=1), # first generate the sum of values in each row\n",
    "                         axis=0) # then divide all cells in a column, by the corresponding sum\n",
    "normalized"
   ]
  },
  {
   "cell_type": "markdown",
   "id": "c5e6bea3-8dcf-4a2d-99f9-ec4ce0b35001",
   "metadata": {},
   "source": [
    "Now that the data is ready, we can create the heatmap, providing some additional instructions to make it look good:"
   ]
  },
  {
   "cell_type": "code",
   "execution_count": 41,
   "id": "214926a7-9164-4808-aa9d-632f9723e03e",
   "metadata": {},
   "outputs": [
    {
     "data": {
      "image/png": "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",
      "text/plain": [
       "<Figure size 800x400 with 2 Axes>"
      ]
     },
     "metadata": {},
     "output_type": "display_data"
    }
   ],
   "source": [
    "# Create a heatmap\n",
    "plt.figure(figsize=(8, 4))\n",
    "sns.set(font_scale=1.2)  # Adjust font size\n",
    "sns.heatmap(normalized, \n",
    "            cmap='BuGn', # set color map Blue to Green\n",
    "            annot=False, # do not show the numerical values in each cell\n",
    "            linewidths=0.5) # width of lines that separate the cells in the map\n",
    "\n",
    "# We are directly setting the properties of the current axes, without explicitely referring to it as we did in the barplot image\n",
    "plt.xlabel('Story position', fontsize=10)\n",
    "plt.ylabel('Domain', fontsize=10)\n",
    "plt.title('Proportion of Top 10 Domains by Position', fontsize=12)\n",
    "\n",
    "plt.tight_layout()\n",
    "plt.show()"
   ]
  },
  {
   "cell_type": "markdown",
   "id": "e5aad6c1-5394-4fa1-aa01-10f4589db1c5",
   "metadata": {},
   "source": [
    "**Questions:** Given this visualization, how can we answer our starting question: Are all news sources equally likely to show up in all positions?  \n",
    "Furthermore, what does this tell us about Google's algorithms?"
   ]
  },
  {
   "attachments": {},
   "cell_type": "markdown",
   "id": "7978a2bb-4d91-408b-91b0-0c6ef252b606",
   "metadata": {},
   "source": [
    "**Your Answer:** No! Heavily biased towards nytimes"
   ]
  },
  {
   "cell_type": "markdown",
   "id": "f3606f9e-bbdd-427a-9311-a67a058b337f",
   "metadata": {},
   "source": [
    "<a id=\"sec5\"></a>\n",
    "## 5. Timeseries of monthly unique articles organized by query type\n",
    "\n",
    "From prior experience in working with Google Top Stories data, I know that some articles show up multiple times during the day or over a few days. We can verify this through code:"
   ]
  },
  {
   "cell_type": "code",
   "execution_count": 42,
   "id": "28f7a83e-d36e-4200-89e1-5a3f4a2adf18",
   "metadata": {},
   "outputs": [
    {
     "data": {
      "text/plain": [
       "False"
      ]
     },
     "execution_count": 42,
     "metadata": {},
     "output_type": "execute_result"
    }
   ],
   "source": [
    "df.url.unique().size == df.url.size # compare sizes"
   ]
  },
  {
   "cell_type": "markdown",
   "id": "933b8758-a119-4fa2-b8d1-9f6ecb746e5d",
   "metadata": {},
   "source": [
    "Print the sizes to compare unique url to the total urls:"
   ]
  },
  {
   "cell_type": "code",
   "execution_count": 43,
   "id": "d0066478-be70-4613-a834-1f12d6dfc1a2",
   "metadata": {},
   "outputs": [
    {
     "name": "stdout",
     "output_type": "stream",
     "text": [
      "Unique: 12265, Total: 16948\n"
     ]
    }
   ],
   "source": [
    "print(f\"Unique: {df.url.unique().size}, Total: {df.url.size}\")"
   ]
  },
  {
   "cell_type": "markdown",
   "id": "ec291001-f705-4115-9dcd-bc2d3c74674b",
   "metadata": {},
   "source": [
    "**Your Task: Domains and Sources**  \n",
    "Throughout the notebook, we worked with the domain column, instead of source. \n",
    "1. Check if these two columns have the same size in terms of unique values.\n",
    "2. What is the size of unique values for each of them?\n",
    "3. Speculate about the reason for the divergence between the two columns."
   ]
  },
  {
   "cell_type": "markdown",
   "id": "cc79a0a6-e402-496e-8399-fdafd2eb9da9",
   "metadata": {},
   "source": [
    "**Your exploration**"
   ]
  },
  {
   "cell_type": "code",
   "execution_count": 45,
   "id": "5c997916-d497-4cfd-be68-63d470ecc127",
   "metadata": {},
   "outputs": [
    {
     "data": {
      "text/plain": [
       "False"
      ]
     },
     "execution_count": 45,
     "metadata": {},
     "output_type": "execute_result"
    }
   ],
   "source": [
    "df.source.unique().size == df.source.size"
   ]
  },
  {
   "cell_type": "code",
   "execution_count": 46,
   "id": "5a09fae5-300a-497f-9d30-494499604ff2",
   "metadata": {},
   "outputs": [
    {
     "name": "stdout",
     "output_type": "stream",
     "text": [
      "Unique: 1048, Total: 16948\n"
     ]
    }
   ],
   "source": [
    "print(f\"Unique: {df.source.unique().size}, Total: {df.source.size}\")"
   ]
  },
  {
   "cell_type": "code",
   "execution_count": 51,
   "id": "f5caddca",
   "metadata": {},
   "outputs": [
    {
     "data": {
      "text/plain": [
       "False"
      ]
     },
     "execution_count": 51,
     "metadata": {},
     "output_type": "execute_result"
    }
   ],
   "source": [
    "df.domain.unique().size == df.source.size"
   ]
  },
  {
   "cell_type": "code",
   "execution_count": 52,
   "id": "cb4f9a14",
   "metadata": {},
   "outputs": [
    {
     "name": "stdout",
     "output_type": "stream",
     "text": [
      "Unique: 811, Total: 16948\n"
     ]
    }
   ],
   "source": [
    "print(f\"Unique: {df.domain.unique().size}, Total: {df.domain.size}\")"
   ]
  },
  {
   "attachments": {},
   "cell_type": "markdown",
   "id": "57be0d7d",
   "metadata": {},
   "source": [
    "There are significantly less unique domains compared to sources. Why?\n",
    "hypothesis: sources may be more specific than domain names, and so two distinct sources may map to the same domain"
   ]
  },
  {
   "cell_type": "markdown",
   "id": "19540749-cd9c-4278-8c8f-99d1ca80de35",
   "metadata": {},
   "source": [
    "### Focus on unique articles"
   ]
  },
  {
   "cell_type": "markdown",
   "id": "e9c4f648-ae3c-4dfe-a8e9-b27ec555d75d",
   "metadata": {},
   "source": [
    "Let's start by dropping all the rows that have repeating URLs, however, we will first sort the rows, so that they are in the order of publication."
   ]
  },
  {
   "cell_type": "code",
   "execution_count": 60,
   "id": "5d7212ea-8bef-493f-b2be-cd44df5b0033",
   "metadata": {},
   "outputs": [
    {
     "data": {
      "text/html": [
       "<div>\n",
       "<style scoped>\n",
       "    .dataframe tbody tr th:only-of-type {\n",
       "        vertical-align: middle;\n",
       "    }\n",
       "\n",
       "    .dataframe tbody tr th {\n",
       "        vertical-align: top;\n",
       "    }\n",
       "\n",
       "    .dataframe thead th {\n",
       "        text-align: right;\n",
       "    }\n",
       "</style>\n",
       "<table border=\"1\" class=\"dataframe\">\n",
       "  <thead>\n",
       "    <tr style=\"text-align: right;\">\n",
       "      <th></th>\n",
       "      <th>title</th>\n",
       "      <th>url</th>\n",
       "      <th>source</th>\n",
       "      <th>time</th>\n",
       "      <th>date</th>\n",
       "      <th>query</th>\n",
       "      <th>story_position</th>\n",
       "      <th>domain</th>\n",
       "      <th>category</th>\n",
       "      <th>domain2</th>\n",
       "      <th>wordCount</th>\n",
       "    </tr>\n",
       "  </thead>\n",
       "  <tbody>\n",
       "    <tr>\n",
       "      <th>2523</th>\n",
       "      <td>Coronavirus in Massachusetts: 2,730 deaths, 53...</td>\n",
       "      <td>https://www.wwlp.com/news/health/coronavirus-l...</td>\n",
       "      <td>WWLP</td>\n",
       "      <td>5 hours ago</td>\n",
       "      <td>2020-04-25 22:00:00</td>\n",
       "      <td>Covid-19</td>\n",
       "      <td>7</td>\n",
       "      <td>www.wwlp.com</td>\n",
       "      <td>NaN</td>\n",
       "      <td>www.wwlp.com</td>\n",
       "      <td>9</td>\n",
       "    </tr>\n",
       "    <tr>\n",
       "      <th>2545</th>\n",
       "      <td>CDC adds 6 new possible coronavirus symptoms</td>\n",
       "      <td>https://www.ktvq.com/news/coronavirus/cdc-adds...</td>\n",
       "      <td>KTVQ.com</td>\n",
       "      <td>2 hours ago</td>\n",
       "      <td>2020-04-25 22:00:00</td>\n",
       "      <td>coronavirus symptoms</td>\n",
       "      <td>3</td>\n",
       "      <td>www.ktvq.com</td>\n",
       "      <td>NaN</td>\n",
       "      <td>www.ktvq.com</td>\n",
       "      <td>7</td>\n",
       "    </tr>\n",
       "    <tr>\n",
       "      <th>2517</th>\n",
       "      <td>Coronavirus daily news updates, April 25: What...</td>\n",
       "      <td>https://www.seattletimes.com/seattle-news/heal...</td>\n",
       "      <td>The Seattle Times</td>\n",
       "      <td>10 hours ago</td>\n",
       "      <td>2020-04-25 22:00:00</td>\n",
       "      <td>Covid-19</td>\n",
       "      <td>1</td>\n",
       "      <td>www.seattletimes.com</td>\n",
       "      <td>NaN</td>\n",
       "      <td>www.seattletimes.com</td>\n",
       "      <td>21</td>\n",
       "    </tr>\n",
       "    <tr>\n",
       "      <th>2518</th>\n",
       "      <td>The one ritual keeping me sane during Covid-19</td>\n",
       "      <td>https://www.cnn.com/2020/04/25/opinions/covid-...</td>\n",
       "      <td>CNN.com</td>\n",
       "      <td>13 hours ago</td>\n",
       "      <td>2020-04-25 22:00:00</td>\n",
       "      <td>Covid-19</td>\n",
       "      <td>2</td>\n",
       "      <td>www.cnn.com</td>\n",
       "      <td>NaN</td>\n",
       "      <td>www.cnn.com</td>\n",
       "      <td>8</td>\n",
       "    </tr>\n",
       "    <tr>\n",
       "      <th>2519</th>\n",
       "      <td>Dyson Built a New Ventilator to Treat Covid-19...</td>\n",
       "      <td>https://gizmodo.com/dyson-built-a-new-ventilat...</td>\n",
       "      <td>Gizmodo</td>\n",
       "      <td>44 mins ago</td>\n",
       "      <td>2020-04-25 22:00:00</td>\n",
       "      <td>Covid-19</td>\n",
       "      <td>3</td>\n",
       "      <td>gizmodo.com</td>\n",
       "      <td>NaN</td>\n",
       "      <td>gizmodo.com</td>\n",
       "      <td>18</td>\n",
       "    </tr>\n",
       "  </tbody>\n",
       "</table>\n",
       "</div>"
      ],
      "text/plain": [
       "                                                  title  \\\n",
       "2523  Coronavirus in Massachusetts: 2,730 deaths, 53...   \n",
       "2545       CDC adds 6 new possible coronavirus symptoms   \n",
       "2517  Coronavirus daily news updates, April 25: What...   \n",
       "2518     The one ritual keeping me sane during Covid-19   \n",
       "2519  Dyson Built a New Ventilator to Treat Covid-19...   \n",
       "\n",
       "                                                    url             source  \\\n",
       "2523  https://www.wwlp.com/news/health/coronavirus-l...               WWLP   \n",
       "2545  https://www.ktvq.com/news/coronavirus/cdc-adds...           KTVQ.com   \n",
       "2517  https://www.seattletimes.com/seattle-news/heal...  The Seattle Times   \n",
       "2518  https://www.cnn.com/2020/04/25/opinions/covid-...            CNN.com   \n",
       "2519  https://gizmodo.com/dyson-built-a-new-ventilat...            Gizmodo   \n",
       "\n",
       "              time                 date                 query  story_position  \\\n",
       "2523   5 hours ago  2020-04-25 22:00:00              Covid-19               7   \n",
       "2545   2 hours ago  2020-04-25 22:00:00  coronavirus symptoms               3   \n",
       "2517  10 hours ago  2020-04-25 22:00:00              Covid-19               1   \n",
       "2518  13 hours ago  2020-04-25 22:00:00              Covid-19               2   \n",
       "2519   44 mins ago  2020-04-25 22:00:00              Covid-19               3   \n",
       "\n",
       "                    domain category               domain2  wordCount  \n",
       "2523          www.wwlp.com      NaN          www.wwlp.com          9  \n",
       "2545          www.ktvq.com      NaN          www.ktvq.com          7  \n",
       "2517  www.seattletimes.com      NaN  www.seattletimes.com         21  \n",
       "2518           www.cnn.com      NaN           www.cnn.com          8  \n",
       "2519           gizmodo.com      NaN           gizmodo.com         18  "
      ]
     },
     "execution_count": 60,
     "metadata": {},
     "output_type": "execute_result"
    }
   ],
   "source": [
    "df.sort_values(by=['date'], inplace=True)\n",
    "df.head()"
   ]
  },
  {
   "cell_type": "markdown",
   "id": "3c2446cc-6943-4f29-9e32-3d23809a1108",
   "metadata": {},
   "source": [
    "We can see from the indices (they don't start at 0 any longer) that the rows were sorted. Let's drop the duplicate URLs:"
   ]
  },
  {
   "cell_type": "code",
   "execution_count": 61,
   "id": "4f859e80-489f-4a83-abf6-67328e087a19",
   "metadata": {},
   "outputs": [
    {
     "data": {
      "text/plain": [
       "(12265, 11)"
      ]
     },
     "execution_count": 61,
     "metadata": {},
     "output_type": "execute_result"
    }
   ],
   "source": [
    "dfUnique = df.drop_duplicates(subset=['url']) \n",
    "dfUnique.shape"
   ]
  },
  {
   "cell_type": "markdown",
   "id": "1279a44b-7932-4985-9657-0aab7f265e43",
   "metadata": {},
   "source": [
    "I will create a new column, year-month, since the date field is too granular. [**Note**: Read more about this at the end of the notebook.]"
   ]
  },
  {
   "cell_type": "code",
   "execution_count": 62,
   "id": "1abf2590-90ef-42f3-b01c-3356aa0342bc",
   "metadata": {},
   "outputs": [
    {
     "name": "stderr",
     "output_type": "stream",
     "text": [
      "/var/folders/6y/w5dznchj3w9cyjt81v33hf1c0000gn/T/ipykernel_18246/1694280622.py:5: SettingWithCopyWarning: \n",
      "A value is trying to be set on a copy of a slice from a DataFrame.\n",
      "Try using .loc[row_indexer,col_indexer] = value instead\n",
      "\n",
      "See the caveats in the documentation: https://pandas.pydata.org/pandas-docs/stable/user_guide/indexing.html#returning-a-view-versus-a-copy\n",
      "  dfUnique['year-month'] = dfUnique.apply(splitDate, axis=1)\n"
     ]
    },
    {
     "data": {
      "text/html": [
       "<div>\n",
       "<style scoped>\n",
       "    .dataframe tbody tr th:only-of-type {\n",
       "        vertical-align: middle;\n",
       "    }\n",
       "\n",
       "    .dataframe tbody tr th {\n",
       "        vertical-align: top;\n",
       "    }\n",
       "\n",
       "    .dataframe thead th {\n",
       "        text-align: right;\n",
       "    }\n",
       "</style>\n",
       "<table border=\"1\" class=\"dataframe\">\n",
       "  <thead>\n",
       "    <tr style=\"text-align: right;\">\n",
       "      <th></th>\n",
       "      <th>title</th>\n",
       "      <th>url</th>\n",
       "      <th>source</th>\n",
       "      <th>time</th>\n",
       "      <th>date</th>\n",
       "      <th>query</th>\n",
       "      <th>story_position</th>\n",
       "      <th>domain</th>\n",
       "      <th>category</th>\n",
       "      <th>domain2</th>\n",
       "      <th>wordCount</th>\n",
       "      <th>year-month</th>\n",
       "    </tr>\n",
       "  </thead>\n",
       "  <tbody>\n",
       "    <tr>\n",
       "      <th>2523</th>\n",
       "      <td>Coronavirus in Massachusetts: 2,730 deaths, 53...</td>\n",
       "      <td>https://www.wwlp.com/news/health/coronavirus-l...</td>\n",
       "      <td>WWLP</td>\n",
       "      <td>5 hours ago</td>\n",
       "      <td>2020-04-25 22:00:00</td>\n",
       "      <td>Covid-19</td>\n",
       "      <td>7</td>\n",
       "      <td>www.wwlp.com</td>\n",
       "      <td>NaN</td>\n",
       "      <td>www.wwlp.com</td>\n",
       "      <td>9</td>\n",
       "      <td>2020-04</td>\n",
       "    </tr>\n",
       "    <tr>\n",
       "      <th>2545</th>\n",
       "      <td>CDC adds 6 new possible coronavirus symptoms</td>\n",
       "      <td>https://www.ktvq.com/news/coronavirus/cdc-adds...</td>\n",
       "      <td>KTVQ.com</td>\n",
       "      <td>2 hours ago</td>\n",
       "      <td>2020-04-25 22:00:00</td>\n",
       "      <td>coronavirus symptoms</td>\n",
       "      <td>3</td>\n",
       "      <td>www.ktvq.com</td>\n",
       "      <td>NaN</td>\n",
       "      <td>www.ktvq.com</td>\n",
       "      <td>7</td>\n",
       "      <td>2020-04</td>\n",
       "    </tr>\n",
       "    <tr>\n",
       "      <th>2517</th>\n",
       "      <td>Coronavirus daily news updates, April 25: What...</td>\n",
       "      <td>https://www.seattletimes.com/seattle-news/heal...</td>\n",
       "      <td>The Seattle Times</td>\n",
       "      <td>10 hours ago</td>\n",
       "      <td>2020-04-25 22:00:00</td>\n",
       "      <td>Covid-19</td>\n",
       "      <td>1</td>\n",
       "      <td>www.seattletimes.com</td>\n",
       "      <td>NaN</td>\n",
       "      <td>www.seattletimes.com</td>\n",
       "      <td>21</td>\n",
       "      <td>2020-04</td>\n",
       "    </tr>\n",
       "    <tr>\n",
       "      <th>2518</th>\n",
       "      <td>The one ritual keeping me sane during Covid-19</td>\n",
       "      <td>https://www.cnn.com/2020/04/25/opinions/covid-...</td>\n",
       "      <td>CNN.com</td>\n",
       "      <td>13 hours ago</td>\n",
       "      <td>2020-04-25 22:00:00</td>\n",
       "      <td>Covid-19</td>\n",
       "      <td>2</td>\n",
       "      <td>www.cnn.com</td>\n",
       "      <td>NaN</td>\n",
       "      <td>www.cnn.com</td>\n",
       "      <td>8</td>\n",
       "      <td>2020-04</td>\n",
       "    </tr>\n",
       "    <tr>\n",
       "      <th>2519</th>\n",
       "      <td>Dyson Built a New Ventilator to Treat Covid-19...</td>\n",
       "      <td>https://gizmodo.com/dyson-built-a-new-ventilat...</td>\n",
       "      <td>Gizmodo</td>\n",
       "      <td>44 mins ago</td>\n",
       "      <td>2020-04-25 22:00:00</td>\n",
       "      <td>Covid-19</td>\n",
       "      <td>3</td>\n",
       "      <td>gizmodo.com</td>\n",
       "      <td>NaN</td>\n",
       "      <td>gizmodo.com</td>\n",
       "      <td>18</td>\n",
       "      <td>2020-04</td>\n",
       "    </tr>\n",
       "  </tbody>\n",
       "</table>\n",
       "</div>"
      ],
      "text/plain": [
       "                                                  title  \\\n",
       "2523  Coronavirus in Massachusetts: 2,730 deaths, 53...   \n",
       "2545       CDC adds 6 new possible coronavirus symptoms   \n",
       "2517  Coronavirus daily news updates, April 25: What...   \n",
       "2518     The one ritual keeping me sane during Covid-19   \n",
       "2519  Dyson Built a New Ventilator to Treat Covid-19...   \n",
       "\n",
       "                                                    url             source  \\\n",
       "2523  https://www.wwlp.com/news/health/coronavirus-l...               WWLP   \n",
       "2545  https://www.ktvq.com/news/coronavirus/cdc-adds...           KTVQ.com   \n",
       "2517  https://www.seattletimes.com/seattle-news/heal...  The Seattle Times   \n",
       "2518  https://www.cnn.com/2020/04/25/opinions/covid-...            CNN.com   \n",
       "2519  https://gizmodo.com/dyson-built-a-new-ventilat...            Gizmodo   \n",
       "\n",
       "              time                 date                 query  story_position  \\\n",
       "2523   5 hours ago  2020-04-25 22:00:00              Covid-19               7   \n",
       "2545   2 hours ago  2020-04-25 22:00:00  coronavirus symptoms               3   \n",
       "2517  10 hours ago  2020-04-25 22:00:00              Covid-19               1   \n",
       "2518  13 hours ago  2020-04-25 22:00:00              Covid-19               2   \n",
       "2519   44 mins ago  2020-04-25 22:00:00              Covid-19               3   \n",
       "\n",
       "                    domain category               domain2  wordCount  \\\n",
       "2523          www.wwlp.com      NaN          www.wwlp.com          9   \n",
       "2545          www.ktvq.com      NaN          www.ktvq.com          7   \n",
       "2517  www.seattletimes.com      NaN  www.seattletimes.com         21   \n",
       "2518           www.cnn.com      NaN           www.cnn.com          8   \n",
       "2519           gizmodo.com      NaN           gizmodo.com         18   \n",
       "\n",
       "     year-month  \n",
       "2523    2020-04  \n",
       "2545    2020-04  \n",
       "2517    2020-04  \n",
       "2518    2020-04  \n",
       "2519    2020-04  "
      ]
     },
     "execution_count": 62,
     "metadata": {},
     "output_type": "execute_result"
    }
   ],
   "source": [
    "def splitDate(row):\n",
    "    \"\"\"return a date in the format YYYY-MM\"\"\"\n",
    "    return row['date'][:7] \n",
    "\n",
    "dfUnique['year-month'] = dfUnique.apply(splitDate, axis=1)\n",
    "dfUnique.head()"
   ]
  },
  {
   "cell_type": "markdown",
   "id": "f713f273-1709-47d9-89a0-f79267b64eaa",
   "metadata": {},
   "source": [
    "**Important Note:** When running the cell above, some of you might have received the following warning:  \n",
    "A value is trying to be set on a copy of a slice from a DataFrame.\n",
    "\n",
    "When we run the statement `dfUnique = df.drop_duplicates(subset=['url'])` we intended to create a new dataframe. However, pandas warns us because it can't guarantee that dfUnique isn't sharing data with df under the hood due to its optimizations. The longer explanation is that pandas sometimes uses views internally to optimize memory usage. When we perform an operation that could be ambiguous, such as modifying a DataFrame that could potentially be a view of another DataFrame, pandas issues a warning.\n",
    "\n",
    "If we don't want the warning to show, we should explicitely tell pandas make a new copy:\n",
    "\n",
    "`dfUnique = df.drop_duplicates(subset=['url']).copy()`"
   ]
  },
  {
   "cell_type": "markdown",
   "id": "50ffef6f-19bf-4c70-bd42-fb70b99ff4fa",
   "metadata": {},
   "source": [
    "### Pivot Table: counting articles per query\n",
    "\n",
    "Now that each row has a month value, we can create a pivot table to count how many time a query showed in each month."
   ]
  },
  {
   "cell_type": "code",
   "execution_count": 63,
   "id": "f5087619-e887-4a74-aabf-a49466b87390",
   "metadata": {},
   "outputs": [
    {
     "data": {
      "text/html": [
       "<div>\n",
       "<style scoped>\n",
       "    .dataframe tbody tr th:only-of-type {\n",
       "        vertical-align: middle;\n",
       "    }\n",
       "\n",
       "    .dataframe tbody tr th {\n",
       "        vertical-align: top;\n",
       "    }\n",
       "\n",
       "    .dataframe thead th {\n",
       "        text-align: right;\n",
       "    }\n",
       "</style>\n",
       "<table border=\"1\" class=\"dataframe\">\n",
       "  <thead>\n",
       "    <tr style=\"text-align: right;\">\n",
       "      <th>year-month</th>\n",
       "      <th>2020-04</th>\n",
       "      <th>2020-05</th>\n",
       "      <th>2020-06</th>\n",
       "      <th>2020-07</th>\n",
       "      <th>2020-08</th>\n",
       "      <th>2020-09</th>\n",
       "      <th>2020-10</th>\n",
       "      <th>2020-11</th>\n",
       "      <th>2020-12</th>\n",
       "      <th>2021-01</th>\n",
       "      <th>2021-02</th>\n",
       "    </tr>\n",
       "    <tr>\n",
       "      <th>query</th>\n",
       "      <th></th>\n",
       "      <th></th>\n",
       "      <th></th>\n",
       "      <th></th>\n",
       "      <th></th>\n",
       "      <th></th>\n",
       "      <th></th>\n",
       "      <th></th>\n",
       "      <th></th>\n",
       "      <th></th>\n",
       "      <th></th>\n",
       "    </tr>\n",
       "  </thead>\n",
       "  <tbody>\n",
       "    <tr>\n",
       "      <th>Anthony Fauci</th>\n",
       "      <td>0</td>\n",
       "      <td>175</td>\n",
       "      <td>303</td>\n",
       "      <td>321</td>\n",
       "      <td>156</td>\n",
       "      <td>220</td>\n",
       "      <td>274</td>\n",
       "      <td>228</td>\n",
       "      <td>204</td>\n",
       "      <td>217</td>\n",
       "      <td>58</td>\n",
       "    </tr>\n",
       "    <tr>\n",
       "      <th>Covid-19</th>\n",
       "      <td>102</td>\n",
       "      <td>532</td>\n",
       "      <td>527</td>\n",
       "      <td>472</td>\n",
       "      <td>342</td>\n",
       "      <td>416</td>\n",
       "      <td>485</td>\n",
       "      <td>457</td>\n",
       "      <td>401</td>\n",
       "      <td>434</td>\n",
       "      <td>125</td>\n",
       "    </tr>\n",
       "    <tr>\n",
       "      <th>coronavirus</th>\n",
       "      <td>94</td>\n",
       "      <td>506</td>\n",
       "      <td>492</td>\n",
       "      <td>449</td>\n",
       "      <td>327</td>\n",
       "      <td>399</td>\n",
       "      <td>439</td>\n",
       "      <td>420</td>\n",
       "      <td>382</td>\n",
       "      <td>378</td>\n",
       "      <td>107</td>\n",
       "    </tr>\n",
       "    <tr>\n",
       "      <th>coronavirus symptoms</th>\n",
       "      <td>55</td>\n",
       "      <td>99</td>\n",
       "      <td>98</td>\n",
       "      <td>97</td>\n",
       "      <td>76</td>\n",
       "      <td>84</td>\n",
       "      <td>98</td>\n",
       "      <td>77</td>\n",
       "      <td>80</td>\n",
       "      <td>95</td>\n",
       "      <td>25</td>\n",
       "    </tr>\n",
       "    <tr>\n",
       "      <th>coronavirus test</th>\n",
       "      <td>43</td>\n",
       "      <td>141</td>\n",
       "      <td>86</td>\n",
       "      <td>55</td>\n",
       "      <td>73</td>\n",
       "      <td>111</td>\n",
       "      <td>126</td>\n",
       "      <td>105</td>\n",
       "      <td>87</td>\n",
       "      <td>91</td>\n",
       "      <td>21</td>\n",
       "    </tr>\n",
       "  </tbody>\n",
       "</table>\n",
       "</div>"
      ],
      "text/plain": [
       "year-month            2020-04  2020-05  2020-06  2020-07  2020-08  2020-09  \\\n",
       "query                                                                        \n",
       "Anthony Fauci               0      175      303      321      156      220   \n",
       "Covid-19                  102      532      527      472      342      416   \n",
       "coronavirus                94      506      492      449      327      399   \n",
       "coronavirus symptoms       55       99       98       97       76       84   \n",
       "coronavirus test           43      141       86       55       73      111   \n",
       "\n",
       "year-month            2020-10  2020-11  2020-12  2021-01  2021-02  \n",
       "query                                                              \n",
       "Anthony Fauci             274      228      204      217       58  \n",
       "Covid-19                  485      457      401      434      125  \n",
       "coronavirus               439      420      382      378      107  \n",
       "coronavirus symptoms       98       77       80       95       25  \n",
       "coronavirus test          126      105       87       91       21  "
      ]
     },
     "execution_count": 63,
     "metadata": {},
     "output_type": "execute_result"
    }
   ],
   "source": [
    "queryMonthDF = dfUnique.pivot_table(index=\"query\", \n",
    "                                    columns=\"year-month\", \n",
    "                                    aggfunc=\"size\", \n",
    "                                    fill_value=0)\n",
    "queryMonthDF.head()"
   ]
  },
  {
   "cell_type": "markdown",
   "id": "4eb12338-b7e2-4520-bbf0-c90d7299774b",
   "metadata": {},
   "source": [
    "Let's validate that all articles are shown in this table:"
   ]
  },
  {
   "cell_type": "code",
   "execution_count": 64,
   "id": "abaabb0e-cc69-43a8-8b6d-3f9e1b3102a1",
   "metadata": {},
   "outputs": [
    {
     "data": {
      "text/plain": [
       "12265"
      ]
     },
     "execution_count": 64,
     "metadata": {},
     "output_type": "execute_result"
    }
   ],
   "source": [
    "queryMonthDF.sum().sum()"
   ]
  },
  {
   "cell_type": "markdown",
   "id": "a5e45c16-2902-4101-8cae-266681fde636",
   "metadata": {},
   "source": [
    "It's looks right!"
   ]
  },
  {
   "cell_type": "markdown",
   "id": "f387669c-97c7-4c51-ac20-5b1118631179",
   "metadata": {},
   "source": [
    "### Generate the time series plot\n",
    "\n",
    "There are many ways to create a time series plot. Because I gave you this task before you had seen pandas timeseries, below I will show how to create the plot using linebars. There are two ways to do this.\n",
    "\n",
    "**Soution 1: Plot line bars with a for loop**\n",
    "\n",
    "Because the table we created above is a pivot table, also known as a \"wide table\" (different from the \"tidy table\"), seaborn doesn't know how to work with it directly, so we have to generate each line within a for loop. "
   ]
  },
  {
   "cell_type": "code",
   "execution_count": 65,
   "id": "53ea12fd-70e5-425e-bc9f-12d490b19552",
   "metadata": {},
   "outputs": [
    {
     "data": {
      "image/png": "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",
      "text/plain": [
       "<Figure size 1000x400 with 1 Axes>"
      ]
     },
     "metadata": {},
     "output_type": "display_data"
    }
   ],
   "source": [
    "plt.figure(figsize=(10, 4))\n",
    "plt.style.use('fivethirtyeight')\n",
    "\n",
    "# Iterate over each row to plot\n",
    "for index, row in queryMonthDF.iterrows():\n",
    "    sns.lineplot(x=queryMonthDF.columns,  # the year-month values\n",
    "                 y=row.values,  # the counts for each query\n",
    "                 label=index, # this will be the query values\n",
    "                 lw=3)\n",
    "\n",
    "# Change the parameters of the current axes (plot) to deal with the font size\n",
    "plt.xticks(rotation=45) # Rotate dates\n",
    "plt.ylabel('Article count', fontsize=10)\n",
    "plt.xlabel('Year-Month', fontsize=10)\n",
    "plt.xticks(fontsize=10)\n",
    "plt.yticks(fontsize=10)\n",
    "plt.title('Number of unique articles by query', fontsize=12)\n",
    "plt.legend(title='Query', fontsize=10, loc=\"upper right\", title_fontsize=12)\n",
    "\n",
    "plt.show()"
   ]
  },
  {
   "cell_type": "markdown",
   "id": "e935dc1a-8d8d-456c-ac48-25dd323ea2d8",
   "metadata": {},
   "source": [
    "**Solution 2: Wide table vs. long table**\n",
    "\n",
    "We mentioned that the `pivot_table` method creates a **wide format table**. Seaborn prefers to work with a **long format table** (we called it the tidy data).  \n",
    "Thus, we will convert the wide table to a long table.\n",
    "\n",
    "First, let's look again at our wide-format table:"
   ]
  },
  {
   "cell_type": "code",
   "execution_count": 66,
   "id": "21f13166-94bf-4ebe-b22b-8bda6bd5fae6",
   "metadata": {},
   "outputs": [
    {
     "data": {
      "text/html": [
       "<div>\n",
       "<style scoped>\n",
       "    .dataframe tbody tr th:only-of-type {\n",
       "        vertical-align: middle;\n",
       "    }\n",
       "\n",
       "    .dataframe tbody tr th {\n",
       "        vertical-align: top;\n",
       "    }\n",
       "\n",
       "    .dataframe thead th {\n",
       "        text-align: right;\n",
       "    }\n",
       "</style>\n",
       "<table border=\"1\" class=\"dataframe\">\n",
       "  <thead>\n",
       "    <tr style=\"text-align: right;\">\n",
       "      <th>year-month</th>\n",
       "      <th>2020-04</th>\n",
       "      <th>2020-05</th>\n",
       "      <th>2020-06</th>\n",
       "      <th>2020-07</th>\n",
       "      <th>2020-08</th>\n",
       "      <th>2020-09</th>\n",
       "      <th>2020-10</th>\n",
       "      <th>2020-11</th>\n",
       "      <th>2020-12</th>\n",
       "      <th>2021-01</th>\n",
       "      <th>2021-02</th>\n",
       "    </tr>\n",
       "    <tr>\n",
       "      <th>query</th>\n",
       "      <th></th>\n",
       "      <th></th>\n",
       "      <th></th>\n",
       "      <th></th>\n",
       "      <th></th>\n",
       "      <th></th>\n",
       "      <th></th>\n",
       "      <th></th>\n",
       "      <th></th>\n",
       "      <th></th>\n",
       "      <th></th>\n",
       "    </tr>\n",
       "  </thead>\n",
       "  <tbody>\n",
       "    <tr>\n",
       "      <th>Anthony Fauci</th>\n",
       "      <td>0</td>\n",
       "      <td>175</td>\n",
       "      <td>303</td>\n",
       "      <td>321</td>\n",
       "      <td>156</td>\n",
       "      <td>220</td>\n",
       "      <td>274</td>\n",
       "      <td>228</td>\n",
       "      <td>204</td>\n",
       "      <td>217</td>\n",
       "      <td>58</td>\n",
       "    </tr>\n",
       "    <tr>\n",
       "      <th>Covid-19</th>\n",
       "      <td>102</td>\n",
       "      <td>532</td>\n",
       "      <td>527</td>\n",
       "      <td>472</td>\n",
       "      <td>342</td>\n",
       "      <td>416</td>\n",
       "      <td>485</td>\n",
       "      <td>457</td>\n",
       "      <td>401</td>\n",
       "      <td>434</td>\n",
       "      <td>125</td>\n",
       "    </tr>\n",
       "    <tr>\n",
       "      <th>coronavirus</th>\n",
       "      <td>94</td>\n",
       "      <td>506</td>\n",
       "      <td>492</td>\n",
       "      <td>449</td>\n",
       "      <td>327</td>\n",
       "      <td>399</td>\n",
       "      <td>439</td>\n",
       "      <td>420</td>\n",
       "      <td>382</td>\n",
       "      <td>378</td>\n",
       "      <td>107</td>\n",
       "    </tr>\n",
       "    <tr>\n",
       "      <th>coronavirus symptoms</th>\n",
       "      <td>55</td>\n",
       "      <td>99</td>\n",
       "      <td>98</td>\n",
       "      <td>97</td>\n",
       "      <td>76</td>\n",
       "      <td>84</td>\n",
       "      <td>98</td>\n",
       "      <td>77</td>\n",
       "      <td>80</td>\n",
       "      <td>95</td>\n",
       "      <td>25</td>\n",
       "    </tr>\n",
       "    <tr>\n",
       "      <th>coronavirus test</th>\n",
       "      <td>43</td>\n",
       "      <td>141</td>\n",
       "      <td>86</td>\n",
       "      <td>55</td>\n",
       "      <td>73</td>\n",
       "      <td>111</td>\n",
       "      <td>126</td>\n",
       "      <td>105</td>\n",
       "      <td>87</td>\n",
       "      <td>91</td>\n",
       "      <td>21</td>\n",
       "    </tr>\n",
       "  </tbody>\n",
       "</table>\n",
       "</div>"
      ],
      "text/plain": [
       "year-month            2020-04  2020-05  2020-06  2020-07  2020-08  2020-09  \\\n",
       "query                                                                        \n",
       "Anthony Fauci               0      175      303      321      156      220   \n",
       "Covid-19                  102      532      527      472      342      416   \n",
       "coronavirus                94      506      492      449      327      399   \n",
       "coronavirus symptoms       55       99       98       97       76       84   \n",
       "coronavirus test           43      141       86       55       73      111   \n",
       "\n",
       "year-month            2020-10  2020-11  2020-12  2021-01  2021-02  \n",
       "query                                                              \n",
       "Anthony Fauci             274      228      204      217       58  \n",
       "Covid-19                  485      457      401      434      125  \n",
       "coronavirus               439      420      382      378      107  \n",
       "coronavirus symptoms       98       77       80       95       25  \n",
       "coronavirus test          126      105       87       91       21  "
      ]
     },
     "execution_count": 66,
     "metadata": {},
     "output_type": "execute_result"
    }
   ],
   "source": [
    "queryMonthDF"
   ]
  },
  {
   "cell_type": "markdown",
   "id": "706f922d-02de-43bc-9244-d79b827d5245",
   "metadata": {},
   "source": [
    "Notice that the first column, query, is also serving as an index column. Eventually, what we want is to **unpivot** this table and create a table that looks like this:\n",
    "\n",
    "```\n",
    "query year-month count\n",
    "Anthony Fauci 2020-04 0\n",
    "Anthony Fauci 2020-05 175\n",
    "Anthony Fauci 2020-06 304\n",
    "...\n",
    "Covid-19 2020-04 102\n",
    "Covid-19 2020-04 531\n",
    "...\n",
    "```\n",
    "\n",
    "That is from a table that now has 11 colums x 5 rows, we want a table with 3 columns and 55 rows (from wide to long).\n",
    "\n",
    "The method `melt` below will perform this:"
   ]
  },
  {
   "cell_type": "code",
   "execution_count": 67,
   "id": "ba4cf817-b71b-46c7-9d71-a46517a588ff",
   "metadata": {},
   "outputs": [
    {
     "data": {
      "text/html": [
       "<div>\n",
       "<style scoped>\n",
       "    .dataframe tbody tr th:only-of-type {\n",
       "        vertical-align: middle;\n",
       "    }\n",
       "\n",
       "    .dataframe tbody tr th {\n",
       "        vertical-align: top;\n",
       "    }\n",
       "\n",
       "    .dataframe thead th {\n",
       "        text-align: right;\n",
       "    }\n",
       "</style>\n",
       "<table border=\"1\" class=\"dataframe\">\n",
       "  <thead>\n",
       "    <tr style=\"text-align: right;\">\n",
       "      <th></th>\n",
       "      <th>query</th>\n",
       "      <th>year-month</th>\n",
       "      <th>count</th>\n",
       "    </tr>\n",
       "  </thead>\n",
       "  <tbody>\n",
       "    <tr>\n",
       "      <th>0</th>\n",
       "      <td>Anthony Fauci</td>\n",
       "      <td>2020-04</td>\n",
       "      <td>0</td>\n",
       "    </tr>\n",
       "    <tr>\n",
       "      <th>1</th>\n",
       "      <td>Covid-19</td>\n",
       "      <td>2020-04</td>\n",
       "      <td>102</td>\n",
       "    </tr>\n",
       "    <tr>\n",
       "      <th>2</th>\n",
       "      <td>coronavirus</td>\n",
       "      <td>2020-04</td>\n",
       "      <td>94</td>\n",
       "    </tr>\n",
       "    <tr>\n",
       "      <th>3</th>\n",
       "      <td>coronavirus symptoms</td>\n",
       "      <td>2020-04</td>\n",
       "      <td>55</td>\n",
       "    </tr>\n",
       "    <tr>\n",
       "      <th>4</th>\n",
       "      <td>coronavirus test</td>\n",
       "      <td>2020-04</td>\n",
       "      <td>43</td>\n",
       "    </tr>\n",
       "  </tbody>\n",
       "</table>\n",
       "</div>"
      ],
      "text/plain": [
       "                  query year-month  count\n",
       "0         Anthony Fauci    2020-04      0\n",
       "1              Covid-19    2020-04    102\n",
       "2           coronavirus    2020-04     94\n",
       "3  coronavirus symptoms    2020-04     55\n",
       "4      coronavirus test    2020-04     43"
      ]
     },
     "execution_count": 67,
     "metadata": {},
     "output_type": "execute_result"
    }
   ],
   "source": [
    "dfLongTab = queryMonthDF.reset_index().melt(id_vars='query',  # column that remains an \"identifier\" column, will not be melted\n",
    "                                          var_name='year-month', # name for variable column created after the melting (this contains names of melted columns)\n",
    "                                          value_name='count') # column created after melting (contains values of melted columns)\n",
    "dfLongTab.head()"
   ]
  },
  {
   "cell_type": "markdown",
   "id": "6026ecd2-ba54-4d99-a608-b8c0d815b536",
   "metadata": {},
   "source": [
    "Let's check the shape of the created dataframe. "
   ]
  },
  {
   "cell_type": "code",
   "execution_count": 68,
   "id": "f7d308b1-9724-40a8-8df6-70dccd73f5ba",
   "metadata": {},
   "outputs": [
    {
     "data": {
      "text/plain": [
       "(55, 3)"
      ]
     },
     "execution_count": 68,
     "metadata": {},
     "output_type": "execute_result"
    }
   ],
   "source": [
    "dfLongTab.shape"
   ]
  },
  {
   "cell_type": "markdown",
   "id": "69bf1b20-51d5-4550-afad-f4ffdc3065b1",
   "metadata": {},
   "source": [
    "It's exactly what we expected!\n",
    "\n",
    "Now that we have the data in the desired format, we can do the plotting without having to use a for loop to iterate through the lines, seaborn will do that itself."
   ]
  },
  {
   "cell_type": "code",
   "execution_count": 69,
   "id": "9821448c-01c1-4d5f-afd9-3cb6e1db2e74",
   "metadata": {},
   "outputs": [
    {
     "data": {
      "image/png": "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",
      "text/plain": [
       "<Figure size 1000x400 with 1 Axes>"
      ]
     },
     "metadata": {},
     "output_type": "display_data"
    }
   ],
   "source": [
    "plt.figure(figsize=(10, 4))\n",
    "plt.style.use('fivethirtyeight')\n",
    "\n",
    "sns.lineplot(data=dfLongTab, \n",
    "             x='year-month', \n",
    "             y='count', \n",
    "             hue='query', lw=3)\n",
    "\n",
    "# Change the parameters of the current axes (plot) to deal with the font size\n",
    "plt.xticks(rotation=45) # Rotate dates\n",
    "plt.ylabel('Article count', fontsize=10)\n",
    "plt.xlabel('Year-Month', fontsize=10)\n",
    "plt.xticks(fontsize=10)\n",
    "plt.yticks(fontsize=10)\n",
    "plt.title('Number of unique articles by query', fontsize=12)\n",
    "plt.legend(title='Query', fontsize=10, loc=\"upper right\", title_fontsize=12)\n",
    "\n",
    "plt.show()"
   ]
  },
  {
   "cell_type": "markdown",
   "id": "9db950fe-1854-4f94-83bf-747206660c77",
   "metadata": {},
   "source": [
    "Notice that we produced the same graph but with two different starting dataframes and code for generating the lines. "
   ]
  },
  {
   "cell_type": "markdown",
   "id": "7b252265-29f9-4d94-8be1-531000074e95",
   "metadata": {},
   "source": [
    "**Your Task: Plot each month**\n",
    "\n",
    "Using the code above, create two functions:\n",
    "1. Create a function that given a year-month value, for example: \"2020-05\", prepares the dataframe that contains the \"month-day\" counts of the unique articles for each query.\n",
    "2. Create a function that can take the output from point 1) and plot the lineplot.\n",
    "\n",
    "Excecute these functions for at least two dates."
   ]
  },
  {
   "cell_type": "code",
   "execution_count": 98,
   "id": "ed734731",
   "metadata": {},
   "outputs": [],
   "source": [
    "def filtered_df(year_month):\n",
    "   return dfLongTab[dfLongTab['year-month'] == year_month]"
   ]
  },
  {
   "cell_type": "code",
   "execution_count": 103,
   "id": "9fc3468c",
   "metadata": {},
   "outputs": [],
   "source": [
    "def plot_filtered_df(filtered_df,year_month):\n",
    "    plt.figure(figsize=(10, 4))\n",
    "    plt.style.use('fivethirtyeight')\n",
    "\n",
    "    sns.barplot(data=filtered_df, \n",
    "                x='query', \n",
    "                y='count', lw=3)\n",
    "\n",
    "    # Change the parameters of the current axes (plot) to deal with the font size\n",
    "    plt.xticks(rotation=45) # Rotate dates\n",
    "    plt.ylabel('Article count', fontsize=10)\n",
    "    plt.xlabel(year_month, fontsize=10)\n",
    "    plt.xticks(fontsize=10)\n",
    "    plt.yticks(fontsize=10)\n",
    "    plt.title('Number of unique articles by query', fontsize=12)\n",
    "    plt.legend(title='Query', fontsize=10, loc=\"upper right\", title_fontsize=12)\n",
    "\n",
    "    plt.show()\n",
    "\n"
   ]
  },
  {
   "cell_type": "code",
   "execution_count": 105,
   "id": "b3747600-a7d3-4fd3-a69e-a39406d77ed0",
   "metadata": {},
   "outputs": [
    {
     "name": "stderr",
     "output_type": "stream",
     "text": [
      "No artists with labels found to put in legend.  Note that artists whose label start with an underscore are ignored when legend() is called with no argument.\n"
     ]
    },
    {
     "data": {
      "image/png": "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",
      "text/plain": [
       "<Figure size 1000x400 with 1 Axes>"
      ]
     },
     "metadata": {},
     "output_type": "display_data"
    },
    {
     "name": "stderr",
     "output_type": "stream",
     "text": [
      "No artists with labels found to put in legend.  Note that artists whose label start with an underscore are ignored when legend() is called with no argument.\n"
     ]
    },
    {
     "data": {
      "image/png": "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",
      "text/plain": [
       "<Figure size 1000x400 with 1 Axes>"
      ]
     },
     "metadata": {},
     "output_type": "display_data"
    }
   ],
   "source": [
    "plot_filtered_df(filtered_df('2020-05'),'2020-05')\n",
    "plot_filtered_df(filtered_df('2021-02'),'2021-02')"
   ]
  }
 ],
 "metadata": {
  "kernelspec": {
   "display_name": "venv",
   "language": "python",
   "name": "python3"
  },
  "language_info": {
   "codemirror_mode": {
    "name": "ipython",
    "version": 3
   },
   "file_extension": ".py",
   "mimetype": "text/x-python",
   "name": "python",
   "nbconvert_exporter": "python",
   "pygments_lexer": "ipython3",
<<<<<<< HEAD
   "version": "3.11.4"
=======
   "version": "3.11.4 (main, Jul  5 2023, 08:54:11) [Clang 14.0.6 ]"
>>>>>>> 1e30631f03eb94d790258c0327c58d52330b7d50
  },
  "vscode": {
   "interpreter": {
    "hash": "998e054e2a336645a1c034d50f95524bbbabc00cc66740a3f3687176c9a2862f"
   }
  }
 },
 "nbformat": 4,
 "nbformat_minor": 5
}
