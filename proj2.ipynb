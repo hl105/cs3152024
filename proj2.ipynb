{
 "cells": [
  {
   "attachments": {},
   "cell_type": "markdown",
   "metadata": {},
   "source": [
    "### Part 1: NYT API Intro"
   ]
  },
  {
   "cell_type": "code",
   "execution_count": 1,
   "metadata": {},
   "outputs": [],
   "source": [
    "import requests"
   ]
  },
  {
   "cell_type": "code",
   "execution_count": 3,
   "metadata": {},
   "outputs": [],
   "source": [
    "myAPIKey = \"HljJLGu5hgLAgMCIo4GsezFkska5Lpxb\""
   ]
  },
  {
   "cell_type": "code",
   "execution_count": 4,
   "metadata": {},
   "outputs": [
    {
     "name": "stdout",
     "output_type": "stream",
     "text": [
      "https://api.nytimes.com/svc/archive/v1/2024/2.json?api-key=HljJLGu5hgLAgMCIo4GsezFkska5Lpxb\n"
     ]
    }
   ],
   "source": [
    "year = 2024\n",
    "month = 2\n",
    "URL = f\"https://api.nytimes.com/svc/archive/v1/{year}/{month}.json?api-key={myAPIKey}\"\n",
    "print(URL)"
   ]
  },
  {
   "cell_type": "code",
   "execution_count": 5,
   "metadata": {},
   "outputs": [
    {
     "data": {
      "text/plain": [
       "200"
      ]
     },
     "execution_count": 5,
     "metadata": {},
     "output_type": "execute_result"
    }
   ],
   "source": [
    "data = requests.get(URL)\n",
    "data.status_code"
   ]
  },
  {
   "cell_type": "code",
   "execution_count": 6,
   "metadata": {},
   "outputs": [
    {
     "data": {
      "text/plain": [
       "2"
      ]
     },
     "execution_count": 6,
     "metadata": {},
     "output_type": "execute_result"
    }
   ],
   "source": [
    "articles = data.json()\n",
    "len(articles)"
   ]
  },
  {
   "cell_type": "code",
   "execution_count": 7,
   "metadata": {},
   "outputs": [
    {
     "data": {
      "text/plain": [
       "dict_keys(['copyright', 'response'])"
      ]
     },
     "execution_count": 7,
     "metadata": {},
     "output_type": "execute_result"
    }
   ],
   "source": [
    "articles.keys()"
   ]
  },
  {
   "cell_type": "code",
   "execution_count": 8,
   "metadata": {},
   "outputs": [
    {
     "data": {
      "text/plain": [
       "{'abstract': 'Periods of backlash take shape after surges of Black progress. We have entered another such period.',\n",
       " 'web_url': 'https://www.nytimes.com/2024/01/31/opinion/racist-backlash-history.html',\n",
       " 'snippet': 'Periods of backlash take shape after surges of Black progress. We have entered another such period.',\n",
       " 'lead_paragraph': 'I am fascinated, and alarmed, by the swiftness with which periods of backlash take shape after surges of Black progress, and I believe that we have entered another such period.',\n",
       " 'print_section': 'A',\n",
       " 'print_page': '21',\n",
       " 'source': 'The New York Times',\n",
       " 'multimedia': [{'rank': 0,\n",
       "   'subtype': 'xlarge',\n",
       "   'caption': None,\n",
       "   'credit': None,\n",
       "   'type': 'image',\n",
       "   'url': 'images/2024/02/01/multimedia/31blow1-hvfq/31blow1-hvfq-articleLarge.jpg',\n",
       "   'height': 800,\n",
       "   'width': 600,\n",
       "   'subType': 'xlarge',\n",
       "   'crop_name': 'articleLarge',\n",
       "   'legacy': {'xlarge': 'images/2024/02/01/multimedia/31blow1-hvfq/31blow1-hvfq-articleLarge.jpg',\n",
       "    'xlargewidth': 600,\n",
       "    'xlargeheight': 800}},\n",
       "  {'rank': 0,\n",
       "   'subtype': 'jumbo',\n",
       "   'caption': None,\n",
       "   'credit': None,\n",
       "   'type': 'image',\n",
       "   'url': 'images/2024/02/01/multimedia/31blow1-hvfq/31blow1-hvfq-jumbo.jpg',\n",
       "   'height': 1024,\n",
       "   'width': 768,\n",
       "   'subType': 'jumbo',\n",
       "   'crop_name': 'jumbo',\n",
       "   'legacy': {}},\n",
       "  {'rank': 0,\n",
       "   'subtype': 'superJumbo',\n",
       "   'caption': None,\n",
       "   'credit': None,\n",
       "   'type': 'image',\n",
       "   'url': 'images/2024/02/01/multimedia/31blow1-hvfq/31blow1-hvfq-superJumbo.jpg',\n",
       "   'height': 2048,\n",
       "   'width': 1536,\n",
       "   'subType': 'superJumbo',\n",
       "   'crop_name': 'superJumbo',\n",
       "   'legacy': {}},\n",
       "  {'rank': 0,\n",
       "   'subtype': 'thumbnail',\n",
       "   'caption': None,\n",
       "   'credit': None,\n",
       "   'type': 'image',\n",
       "   'url': 'images/2024/02/01/multimedia/31blow1-hvfq/31blow1-hvfq-thumbStandard.jpg',\n",
       "   'height': 75,\n",
       "   'width': 75,\n",
       "   'subType': 'thumbnail',\n",
       "   'crop_name': 'thumbStandard',\n",
       "   'legacy': {'thumbnail': 'images/2024/02/01/multimedia/31blow1-hvfq/31blow1-hvfq-thumbStandard.jpg',\n",
       "    'thumbnailwidth': 75,\n",
       "    'thumbnailheight': 75}},\n",
       "  {'rank': 0,\n",
       "   'subtype': 'thumbLarge',\n",
       "   'caption': None,\n",
       "   'credit': None,\n",
       "   'type': 'image',\n",
       "   'url': 'images/2024/02/01/multimedia/31blow1-hvfq/31blow1-hvfq-thumbLarge.jpg',\n",
       "   'height': 150,\n",
       "   'width': 150,\n",
       "   'subType': 'thumbLarge',\n",
       "   'crop_name': 'thumbLarge',\n",
       "   'legacy': {}}],\n",
       " 'headline': {'main': 'The Dawn of a New Era of Oppression',\n",
       "  'kicker': 'Charles M. Blow',\n",
       "  'content_kicker': None,\n",
       "  'print_headline': 'The Dawn of a New Era of Oppression',\n",
       "  'name': None,\n",
       "  'seo': None,\n",
       "  'sub': None},\n",
       " 'keywords': [{'name': 'subject',\n",
       "   'value': 'Hate Crimes',\n",
       "   'rank': 1,\n",
       "   'major': 'N'},\n",
       "  {'name': 'subject', 'value': 'Black People', 'rank': 2, 'major': 'N'},\n",
       "  {'name': 'subject', 'value': 'Blacks', 'rank': 3, 'major': 'N'},\n",
       "  {'name': 'subject', 'value': 'Discrimination', 'rank': 4, 'major': 'N'},\n",
       "  {'name': 'subject',\n",
       "   'value': 'Civil Rights Movement (1954-68)',\n",
       "   'rank': 5,\n",
       "   'major': 'N'},\n",
       "  {'name': 'subject', 'value': 'Reconstruction Era', 'rank': 6, 'major': 'N'},\n",
       "  {'name': 'subject',\n",
       "   'value': 'Segregation and Desegregation',\n",
       "   'rank': 7,\n",
       "   'major': 'N'},\n",
       "  {'name': 'persons',\n",
       "   'value': 'Nixon, Richard Milhous',\n",
       "   'rank': 8,\n",
       "   'major': 'N'}],\n",
       " 'pub_date': '2024-02-01T00:00:08+0000',\n",
       " 'document_type': 'article',\n",
       " 'news_desk': 'OpEd',\n",
       " 'section_name': 'Opinion',\n",
       " 'byline': {'original': 'By Charles M. Blow',\n",
       "  'person': [{'firstname': 'Charles',\n",
       "    'middlename': None,\n",
       "    'lastname': '',\n",
       "    'qualifier': None,\n",
       "    'title': None,\n",
       "    'role': 'reported',\n",
       "    'organization': '',\n",
       "    'rank': 1}],\n",
       "  'organization': None},\n",
       " 'type_of_material': 'Op-Ed',\n",
       " '_id': 'nyt://article/f2a4bafd-6333-5aee-8bd7-08fa9572ec5e',\n",
       " 'word_count': 928,\n",
       " 'uri': 'nyt://article/f2a4bafd-6333-5aee-8bd7-08fa9572ec5e'}"
      ]
     },
     "execution_count": 8,
     "metadata": {},
     "output_type": "execute_result"
    }
   ],
   "source": [
    "articles['response']['docs'][0]"
   ]
  },
  {
   "cell_type": "code",
   "execution_count": 20,
   "metadata": {},
   "outputs": [
    {
     "data": {
      "text/plain": [
       "[('U.S.', 734),\n",
       " ('World', 513),\n",
       " ('Arts', 326),\n",
       " ('Opinion', 272),\n",
       " ('Business Day', 244),\n",
       " ('New York', 200),\n",
       " ('Style', 174),\n",
       " ('Books', 139),\n",
       " ('Crosswords & Games', 125),\n",
       " ('Movies', 123),\n",
       " ('Food', 80),\n",
       " ('Podcasts', 79),\n",
       " ('The Learning Network', 78),\n",
       " ('Briefing', 77),\n",
       " ('Real Estate', 62),\n",
       " ('Theater', 58),\n",
       " ('Health', 58),\n",
       " ('Corrections', 56),\n",
       " ('T Magazine', 51),\n",
       " ('Science', 50),\n",
       " ('Climate', 50),\n",
       " ('Technology', 49),\n",
       " ('Well', 47),\n",
       " ('Magazine', 41),\n",
       " ('Travel', 31),\n",
       " ('Times Insider', 22),\n",
       " ('The Upshot', 19),\n",
       " ('Your Money', 7),\n",
       " ('Sports', 7),\n",
       " ('T Brand', 4),\n",
       " ('Headway', 4),\n",
       " ('Obituaries', 3),\n",
       " ('Smarter Living', 3),\n",
       " ('Today’s Paper', 2),\n",
       " ('Fashion & Style', 2),\n",
       " ('International Home', 1)]"
      ]
     },
     "execution_count": 20,
     "metadata": {},
     "output_type": "execute_result"
    }
   ],
   "source": [
    "from collections import Counter\n",
    "section_names = []\n",
    "for article in articles['response']['docs']:\n",
    "    section_names.append(article['section_name'])\n",
    "\n",
    "c = Counter(section_names)\n",
    "c.most_common()\n"
   ]
  },
  {
   "attachments": {},
   "cell_type": "markdown",
   "metadata": {},
   "source": [
    "### Part 2: Semantic Similarity"
   ]
  },
  {
   "cell_type": "code",
   "execution_count": 24,
   "metadata": {},
   "outputs": [],
   "source": [
    "sentences = [\"she wore a dress and red earrings\",\"the dress has a red wine stain\",\n",
    "             \"tomorrow I will wear my new red dress\",\"the red dress in the photo resembles the red dress she is wearing\",\n",
    "             \"short dress\", \"red lipstick\"]"
   ]
  },
  {
   "cell_type": "code",
   "execution_count": 36,
   "metadata": {},
   "outputs": [],
   "source": [
    "import numpy as np\n",
    "import pandas as pd\n",
    "from numpy.linalg import norm\n",
    "import seaborn as sn "
   ]
  },
  {
   "cell_type": "code",
   "execution_count": 27,
   "metadata": {},
   "outputs": [],
   "source": [
    "def cosineSimilarity(vec1,vec2):\n",
    "    \"\"\"\n",
    "    calculate the cosine simliarity between the two vectors.\n",
    "    \"\"\"\n",
    "    V1 = np.array(vec1)\n",
    "    V2 = np.array(vec2)\n",
    "    cosine = np.dot(V1,V2)/(norm(V1)*norm(V2))\n",
    "    return cosine"
   ]
  },
  {
   "cell_type": "code",
   "execution_count": null,
   "metadata": {},
   "outputs": [],
   "source": [
    "words = [word for sentence in sentences for word in sentence.split(\" \")]\n",
    "set(words)"
   ]
  },
  {
   "cell_type": "code",
   "execution_count": 53,
   "metadata": {},
   "outputs": [],
   "source": [
    "df = pd.DataFrame(0,index=range(len(sentences)),columns=[item for item in set(words)])"
   ]
  },
  {
   "cell_type": "code",
   "execution_count": 55,
   "metadata": {},
   "outputs": [],
   "source": [
    "for i, sentence in enumerate(sentences):\n",
    "    for word in sentence.split(\" \"):\n",
    "        df.loc[i,word] += 1"
   ]
  },
  {
   "cell_type": "code",
   "execution_count": 56,
   "metadata": {},
   "outputs": [
    {
     "data": {
      "text/html": [
       "<div>\n",
       "<style scoped>\n",
       "    .dataframe tbody tr th:only-of-type {\n",
       "        vertical-align: middle;\n",
       "    }\n",
       "\n",
       "    .dataframe tbody tr th {\n",
       "        vertical-align: top;\n",
       "    }\n",
       "\n",
       "    .dataframe thead th {\n",
       "        text-align: right;\n",
       "    }\n",
       "</style>\n",
       "<table border=\"1\" class=\"dataframe\">\n",
       "  <thead>\n",
       "    <tr style=\"text-align: right;\">\n",
       "      <th></th>\n",
       "      <th>wearing</th>\n",
       "      <th>wore</th>\n",
       "      <th>and</th>\n",
       "      <th>dress</th>\n",
       "      <th>she</th>\n",
       "      <th>short</th>\n",
       "      <th>in</th>\n",
       "      <th>my</th>\n",
       "      <th>stain</th>\n",
       "      <th>new</th>\n",
       "      <th>...</th>\n",
       "      <th>a</th>\n",
       "      <th>photo</th>\n",
       "      <th>has</th>\n",
       "      <th>wear</th>\n",
       "      <th>wine</th>\n",
       "      <th>red</th>\n",
       "      <th>will</th>\n",
       "      <th>earrings</th>\n",
       "      <th>lipstick</th>\n",
       "      <th>the</th>\n",
       "    </tr>\n",
       "  </thead>\n",
       "  <tbody>\n",
       "    <tr>\n",
       "      <th>0</th>\n",
       "      <td>0</td>\n",
       "      <td>1</td>\n",
       "      <td>1</td>\n",
       "      <td>1</td>\n",
       "      <td>1</td>\n",
       "      <td>0</td>\n",
       "      <td>0</td>\n",
       "      <td>0</td>\n",
       "      <td>0</td>\n",
       "      <td>0</td>\n",
       "      <td>...</td>\n",
       "      <td>1</td>\n",
       "      <td>0</td>\n",
       "      <td>0</td>\n",
       "      <td>0</td>\n",
       "      <td>0</td>\n",
       "      <td>1</td>\n",
       "      <td>0</td>\n",
       "      <td>1</td>\n",
       "      <td>0</td>\n",
       "      <td>0</td>\n",
       "    </tr>\n",
       "    <tr>\n",
       "      <th>1</th>\n",
       "      <td>0</td>\n",
       "      <td>0</td>\n",
       "      <td>0</td>\n",
       "      <td>1</td>\n",
       "      <td>0</td>\n",
       "      <td>0</td>\n",
       "      <td>0</td>\n",
       "      <td>0</td>\n",
       "      <td>1</td>\n",
       "      <td>0</td>\n",
       "      <td>...</td>\n",
       "      <td>1</td>\n",
       "      <td>0</td>\n",
       "      <td>1</td>\n",
       "      <td>0</td>\n",
       "      <td>1</td>\n",
       "      <td>1</td>\n",
       "      <td>0</td>\n",
       "      <td>0</td>\n",
       "      <td>0</td>\n",
       "      <td>1</td>\n",
       "    </tr>\n",
       "    <tr>\n",
       "      <th>2</th>\n",
       "      <td>0</td>\n",
       "      <td>0</td>\n",
       "      <td>0</td>\n",
       "      <td>1</td>\n",
       "      <td>0</td>\n",
       "      <td>0</td>\n",
       "      <td>0</td>\n",
       "      <td>1</td>\n",
       "      <td>0</td>\n",
       "      <td>1</td>\n",
       "      <td>...</td>\n",
       "      <td>0</td>\n",
       "      <td>0</td>\n",
       "      <td>0</td>\n",
       "      <td>1</td>\n",
       "      <td>0</td>\n",
       "      <td>1</td>\n",
       "      <td>1</td>\n",
       "      <td>0</td>\n",
       "      <td>0</td>\n",
       "      <td>0</td>\n",
       "    </tr>\n",
       "    <tr>\n",
       "      <th>3</th>\n",
       "      <td>1</td>\n",
       "      <td>0</td>\n",
       "      <td>0</td>\n",
       "      <td>2</td>\n",
       "      <td>1</td>\n",
       "      <td>0</td>\n",
       "      <td>1</td>\n",
       "      <td>0</td>\n",
       "      <td>0</td>\n",
       "      <td>0</td>\n",
       "      <td>...</td>\n",
       "      <td>0</td>\n",
       "      <td>1</td>\n",
       "      <td>0</td>\n",
       "      <td>0</td>\n",
       "      <td>0</td>\n",
       "      <td>2</td>\n",
       "      <td>0</td>\n",
       "      <td>0</td>\n",
       "      <td>0</td>\n",
       "      <td>3</td>\n",
       "    </tr>\n",
       "    <tr>\n",
       "      <th>4</th>\n",
       "      <td>0</td>\n",
       "      <td>0</td>\n",
       "      <td>0</td>\n",
       "      <td>1</td>\n",
       "      <td>0</td>\n",
       "      <td>1</td>\n",
       "      <td>0</td>\n",
       "      <td>0</td>\n",
       "      <td>0</td>\n",
       "      <td>0</td>\n",
       "      <td>...</td>\n",
       "      <td>0</td>\n",
       "      <td>0</td>\n",
       "      <td>0</td>\n",
       "      <td>0</td>\n",
       "      <td>0</td>\n",
       "      <td>0</td>\n",
       "      <td>0</td>\n",
       "      <td>0</td>\n",
       "      <td>0</td>\n",
       "      <td>0</td>\n",
       "    </tr>\n",
       "    <tr>\n",
       "      <th>5</th>\n",
       "      <td>0</td>\n",
       "      <td>0</td>\n",
       "      <td>0</td>\n",
       "      <td>0</td>\n",
       "      <td>0</td>\n",
       "      <td>0</td>\n",
       "      <td>0</td>\n",
       "      <td>0</td>\n",
       "      <td>0</td>\n",
       "      <td>0</td>\n",
       "      <td>...</td>\n",
       "      <td>0</td>\n",
       "      <td>0</td>\n",
       "      <td>0</td>\n",
       "      <td>0</td>\n",
       "      <td>0</td>\n",
       "      <td>1</td>\n",
       "      <td>0</td>\n",
       "      <td>0</td>\n",
       "      <td>1</td>\n",
       "      <td>0</td>\n",
       "    </tr>\n",
       "  </tbody>\n",
       "</table>\n",
       "<p>6 rows × 24 columns</p>\n",
       "</div>"
      ],
      "text/plain": [
       "   wearing  wore  and  dress  she  short  in  my  stain  new  ...  a  photo  \\\n",
       "0        0     1    1      1    1      0   0   0      0    0  ...  1      0   \n",
       "1        0     0    0      1    0      0   0   0      1    0  ...  1      0   \n",
       "2        0     0    0      1    0      0   0   1      0    1  ...  0      0   \n",
       "3        1     0    0      2    1      0   1   0      0    0  ...  0      1   \n",
       "4        0     0    0      1    0      1   0   0      0    0  ...  0      0   \n",
       "5        0     0    0      0    0      0   0   0      0    0  ...  0      0   \n",
       "\n",
       "   has  wear  wine  red  will  earrings  lipstick  the  \n",
       "0    0     0     0    1     0         1         0    0  \n",
       "1    1     0     1    1     0         0         0    1  \n",
       "2    0     1     0    1     1         0         0    0  \n",
       "3    0     0     0    2     0         0         0    3  \n",
       "4    0     0     0    0     0         0         0    0  \n",
       "5    0     0     0    1     0         0         1    0  \n",
       "\n",
       "[6 rows x 24 columns]"
      ]
     },
     "execution_count": 56,
     "metadata": {},
     "output_type": "execute_result"
    }
   ],
   "source": [
    "df"
   ]
  },
  {
   "cell_type": "code",
   "execution_count": 57,
   "metadata": {},
   "outputs": [],
   "source": [
    "cosine_similarity_matrix = np.zeros((len(sentences), len(sentences)))\n",
    "for i, s1 in df.iterrows():\n",
    "    for j, s2 in df.iterrows():\n",
    "        cosine_similarity_matrix[i][j] = cosineSimilarity(s1.values,s2.values) \n"
   ]
  },
  {
   "cell_type": "code",
   "execution_count": 60,
   "metadata": {},
   "outputs": [
    {
     "data": {
      "image/png": "[encoded data removed]",
      "text/plain": [
       "<Figure size 640x480 with 2 Axes>"
      ]
     },
     "metadata": {},
     "output_type": "display_data"
    }
   ],
   "source": [
    "hm = sn.heatmap(data=cosine_similarity_matrix, cmap=\"rocket_r\")"
   ]
  }
 ],
 "metadata": {
  "kernelspec": {
   "display_name": "venv",
   "language": "python",
   "name": "python3"
  },
  "language_info": {
   "codemirror_mode": {
    "name": "ipython",
    "version": 3
   },
   "file_extension": ".py",
   "mimetype": "text/x-python",
   "name": "python",
   "nbconvert_exporter": "python",
   "pygments_lexer": "ipython3",
   "version": "3.11.4 (main, Jul  5 2023, 08:54:11) [Clang 14.0.6 ]"
  },
  "orig_nbformat": 4,
  "vscode": {
   "interpreter": {
    "hash": "998e054e2a336645a1c034d50f95524bbbabc00cc66740a3f3687176c9a2862f"
   }
  }
 },
 "nbformat": 4,
 "nbformat_minor": 2
}
